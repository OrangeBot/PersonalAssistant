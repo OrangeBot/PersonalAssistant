{
 "cells": [
  {
   "cell_type": "code",
   "execution_count": 23,
   "metadata": {
    "collapsed": true
   },
   "outputs": [
    {
     "data": {
      "text/plain": [
       "{u'collaborator_states': [],\n u'collaborators': [],\n u'day_orders': {},\n u'day_orders_timestamp': u'1534853157.96',\n u'filters': [],\n u'full_sync': False,\n u'items': [],\n u'labels': [],\n u'live_notifications': [],\n u'live_notifications_last_read_id': 2195079423L,\n u'notes': [],\n u'project_notes': [],\n u'projects': [],\n u'reminders': [],\n u'sync_token': u'DbI_OCkNanhQQ83W9KMIDOqd3bzPdtIGrsbzeSmLIe6LPz98yLlI2ztM8ExTNHTBHkge5nDftAT_32NnUB6IQEcvxbFazP1Gt4hcSLs4x79Z',\n u'temp_id_mapping': {}}"
      ]
     },
     "execution_count": 23,
     "metadata": {},
     "output_type": "execute_result"
    }
   ],
   "source": [
    "# step 1, import todoist api\n",
    "from todoist.api import TodoistAPI\n",
    "import sys, os\n",
    "# os.path.abspath(__file__)\n",
    "# os.getcwd()\n",
    "personal_assistant_path = 'C:\\\\Users\\\\Petr\\\\Desktop\\\\HomeAutomation\\\\PersonalAssistant'\n",
    "sys.path.append(personal_assistant_path)\n",
    "# os.listdir(personal_assistant_path)\n",
    "from pyutils import get_token\n",
    "api = TodoistAPI(get_token())\n",
    "api.sync()"
   ]
  },
  {
   "cell_type": "code",
   "execution_count": 8,
   "metadata": {
    "collapsed": false
   },
   "outputs": [],
   "source": [
    ""
   ]
  },
  {
   "cell_type": "code",
   "execution_count": 9,
   "metadata": {},
   "outputs": [],
   "source": [
    ""
   ]
  },
  {
   "cell_type": "code",
   "execution_count": 4,
   "metadata": {
    "collapsed": true
   },
   "outputs": [
    {
     "data": {
      "text/plain": [
       "{u'collaborator_states': [],\n u'collaborators': [],\n u'day_orders': {},\n u'day_orders_timestamp': u'1534853157.96',\n u'filters': [],\n u'full_sync': False,\n u'items': [],\n u'labels': [],\n u'live_notifications': [],\n u'live_notifications_last_read_id': 2195079423L,\n u'notes': [],\n u'project_notes': [],\n u'projects': [],\n u'reminders': [],\n u'sync_token': u'lLP_C53l6vY7RPWp7FGQsc1i_dlBmvMPIRCjcvthCTB8jy9zAm0-vluCCdcLPHDNsiloUkNMoj_ammlalUtwZeErUdhTQr5GtTpJ2r0Jbzy6',\n u'temp_id_mapping': {},\n u'user': {u'auto_reminder': 0,\n  u'avatar_big': u'https://dcff1xvirvpfp.cloudfront.net/575836d1f0bc61d2f59f793cedada9d1_big.jpg',\n  u'avatar_medium': u'https://dcff1xvirvpfp.cloudfront.net/575836d1f0bc61d2f59f793cedada9d1_medium.jpg',\n  u'avatar_s640': u'https://dcff1xvirvpfp.cloudfront.net/575836d1f0bc61d2f59f793cedada9d1_s640.jpg',\n  u'avatar_small': u'https://dcff1xvirvpfp.cloudfront.net/575836d1f0bc61d2f59f793cedada9d1_small.jpg',\n  u'business_account_id': None,\n  u'completed_count': 3322,\n  u'completed_today': 0,\n  u'daily_goal': 20,\n  u'date_format': 1,\n  u'dateist_inline_disabled': False,\n  u'dateist_lang': None,\n  u'days_off': [],\n  u'default_reminder': u'push',\n  u'email': u'msuorange@gmail.com',\n  u'features': {u'beta': 0,\n   u'dateist_inline_disabled': False,\n   u'dateist_lang': None,\n   u'has_push_reminders': True,\n   u'karma_disabled': False,\n   u'karma_vacation': False,\n   u'restriction': 3},\n  u'full_name': u'msuorange',\n  u'id': 4405058,\n  u'image_id': u'575836d1f0bc61d2f59f793cedada9d1',\n  u'inbox_project': 143126184,\n  u'is_biz_admin': False,\n  u'is_premium': True,\n  u'join_date': u'Sat 02 May 2015 12:15:10 +0000',\n  u'karma': 11919.0,\n  u'karma_trend': u'down',\n  u'magic_num_reached': True,\n  u'mobile_host': None,\n  u'mobile_number': None,\n  u'next_week': 1,\n  u'premium_until': u'Sun 21 Jul 2019 00:48:41 +0000',\n  u'share_limit': 26,\n  u'sort_order': 0,\n  u'start_day': 1,\n  u'start_page': u'@basic',\n  u'theme': 11,\n  u'time_format': 1,\n  u'token': u'637c5aced1ae61fabd1ac381fd7eea154a1880a2',\n  u'tz_info': {u'gmt_string': u'+03:00',\n   u'hours': 3,\n   u'is_dst': 0,\n   u'minutes': 0,\n   u'timezone': u'Europe/Moscow'},\n  u'websocket_url': u'wss://ws.todoist.com/ws?token=d704235591e072b8',\n  u'weekly_goal': 140}}"
      ]
     },
     "execution_count": 4,
     "metadata": {},
     "output_type": "execute_result"
    }
   ],
   "source": [
    "api.sync()"
   ]
  },
  {
   "cell_type": "code",
   "execution_count": 17,
   "metadata": {},
   "outputs": [
    {
     "data": {
      "text/plain": [
       "16"
      ]
     },
     "execution_count": 17,
     "metadata": {},
     "output_type": "execute_result"
    }
   ],
   "source": [
    "len(api.state)"
   ]
  },
  {
   "cell_type": "code",
   "execution_count": 18,
   "metadata": {},
   "outputs": [
    {
     "data": {
      "text/plain": [
       "['collaborators',\n 'day_orders_timestamp',\n 'live_notifications_last_read_id',\n 'items',\n 'collaborator_states',\n 'labels',\n 'reminders',\n 'locations',\n 'settings_notifications',\n 'project_notes',\n 'user',\n 'filters',\n 'day_orders',\n 'live_notifications',\n 'notes',\n 'projects']"
      ]
     },
     "execution_count": 18,
     "metadata": {},
     "output_type": "execute_result"
    }
   ],
   "source": [
    "api.state.keys()"
   ]
  },
  {
   "cell_type": "code",
   "execution_count": 20,
   "metadata": {},
   "outputs": [
    {
     "data": {
      "text/plain": [
       "52"
      ]
     },
     "execution_count": 20,
     "metadata": {},
     "output_type": "execute_result"
    }
   ],
   "source": [
    "len(api.state['projects'])"
   ]
  },
  {
   "cell_type": "code",
   "execution_count": 10,
   "metadata": {},
   "outputs": [
    {
     "name": "stdout",
     "output_type": "stream",
     "text": [
      "Help on ActivityManager in module todoist.managers.activity object:\n\nclass ActivityManager(todoist.managers.generic.Manager)\n |  Method resolution order:\n |      ActivityManager\n |      todoist.managers.generic.Manager\n |      __builtin__.object\n |  \n |  Methods defined here:\n |  \n |  get(self, **kwargs)\n |      Get events from the activity log.\n |  \n |  ----------------------------------------------------------------------\n |  Methods inherited from todoist.managers.generic.Manager:\n |  \n |  __init__(self, api)\n |  \n |  ----------------------------------------------------------------------\n |  Data descriptors inherited from todoist.managers.generic.Manager:\n |  \n |  __dict__\n |      dictionary for instance variables (if defined)\n |  \n |  __weakref__\n |      list of weak references to the object (if defined)\n |  \n |  queue\n |  \n |  state\n |  \n |  token\n |  \n |  ----------------------------------------------------------------------\n |  Data and other attributes inherited from todoist.managers.generic.Manager:\n |  \n |  object_type = None\n |  \n |  state_name = None\n\n"
     ]
    }
   ],
   "source": [
    "help(defaults)"
   ]
  },
  {
   "cell_type": "code",
   "execution_count": 11,
   "metadata": {
    "collapsed": true
   },
   "outputs": [
    {
     "data": {
      "text/plain": [
       "[{u'event_date': u'Wed 03 Oct 2018 04:54:36 +0000',\n  u'event_type': u'added',\n  u'extra_data': {u'client': u'Todoist-iOS/11.10',\n   u'content': u'Sapient. \\u0418\\u0441\\u0442\\u043e\\u0440\\u0438\\u044f \\u0447\\u0435\\u043b\\u043e\\u0432\\u0435\\u0447\\u0435\\u0441\\u043a\\u043e\\u0439 \\u0446\\u0438\\u0432\\u0438\\u043b\\u0438\\u0437\\u0430\\u0446\\u0438\\u0438'},\n  u'id': 4822704878L,\n  u'initiator_id': None,\n  u'object_id': 2841580232L,\n  u'object_type': u'item',\n  u'parent_item_id': None,\n  u'parent_project_id': 2183777088L},\n {u'event_date': u'Wed 26 Sep 2018 11:20:48 +0000',\n  u'event_type': u'added',\n  u'extra_data': {u'client': u'Todoist-iOS/11.10', u'content': u'Free'},\n  u'id': 4782201406L,\n  u'initiator_id': None,\n  u'object_id': 2831545817L,\n  u'object_type': u'item',\n  u'parent_item_id': None,\n  u'parent_project_id': 2183777088L},\n {u'event_date': u'Wed 26 Sep 2018 11:12:39 +0000',\n  u'event_type': u'added',\n  u'extra_data': {u'client': u'Todoist-iOS/11.10',\n   u'content': u'\\u041f\\u0438\\u0442\\u0435\\u0440 \\u0423\\u043e\\u0442\\u0442\\u0441 \\u041b\\u043e\\u0436\\u043d\\u0430\\u044f \\u0441\\u043b\\u0435\\u043f\\u043e\\u0442\\u0430.'},\n  u'id': 4782158972L,\n  u'initiator_id': None,\n  u'object_id': 2831535045L,\n  u'object_type': u'item',\n  u'parent_item_id': None,\n  u'parent_project_id': 2183777088L},\n {u'event_date': u'Wed 12 Sep 2018 06:00:40 +0000',\n  u'event_type': u'added',\n  u'extra_data': {u'client': u'Todoist-iOS/11.8.3', u'content': u'09:00'},\n  u'id': 4700683670L,\n  u'initiator_id': None,\n  u'object_id': 2323275736L,\n  u'object_type': u'note',\n  u'parent_item_id': 2697952472L,\n  u'parent_project_id': 2175410421L},\n {u'event_date': u'Tue 11 Sep 2018 12:34:20 +0000',\n  u'event_type': u'added',\n  u'extra_data': {u'client': u'Todoist-iOS/11.8.3',\n   u'content': u'\\u041f\\u0430\\u0440\\u043a \\u0441\\u0435\\u0432\\u0435\\u0440\\u043d\\u043e\\u0435 \\u0422\\u0443\\u0448\\u0438\\u043d\\u043e'},\n  u'id': 4695927344L,\n  u'initiator_id': None,\n  u'object_id': 2809391663L,\n  u'object_type': u'item',\n  u'parent_item_id': None,\n  u'parent_project_id': 2182284732L},\n {u'event_date': u'Tue 11 Sep 2018 06:00:26 +0000',\n  u'event_type': u'completed',\n  u'extra_data': {u'client': u'Todoist-iOS/11.8.2',\n   u'content': u'Write down time of arrival at work'},\n  u'id': 4694024040L,\n  u'initiator_id': None,\n  u'object_id': 2697952472L,\n  u'object_type': u'item',\n  u'parent_item_id': None,\n  u'parent_project_id': 2175410421L},\n {u'event_date': u'Tue 11 Sep 2018 06:00:22 +0000',\n  u'event_type': u'added',\n  u'extra_data': {u'client': u'Todoist-iOS/11.8.2', u'content': u'08:53'},\n  u'id': 4694023859L,\n  u'initiator_id': None,\n  u'object_id': 2322713823L,\n  u'object_type': u'note',\n  u'parent_item_id': 2697952472L,\n  u'parent_project_id': 2175410421L},\n {u'event_date': u'Mon 10 Sep 2018 14:24:19 +0000',\n  u'event_type': u'added',\n  u'extra_data': {u'client': u'Todoist-iOS/11.8.2',\n   u'content': u'\\u041a\\u043e\\u043e\\u043f\\u0435\\u0440\\u0430\\u0442\\u0438\\u0432 \\xab\\u0447\\u0451\\u0440\\u043d\\u044b\\u0439\\xbb \\u043a\\u0430\\u043f\\u043f\\u0438\\u043d\\u0433 \\u043f\\u043e \\u0432\\u043e\\u0441\\u043a\\u0440\\u0435\\u0441\\u0435\\u043d\\u044c\\u044f\\u043c \\u0432 11:00'},\n  u'id': 4689773734L,\n  u'initiator_id': None,\n  u'object_id': 2807749422L,\n  u'object_type': u'item',\n  u'parent_item_id': None,\n  u'parent_project_id': 2182284732L},\n {u'event_date': u'Thu 30 Aug 2018 20:20:24 +0000',\n  u'event_type': u'added',\n  u'extra_data': {u'client': u'Todoist-iOS/11.8.2', u'content': u'3.5/5'},\n  u'id': 4634882178L,\n  u'initiator_id': None,\n  u'object_id': 2318270534L,\n  u'object_type': u'note',\n  u'parent_item_id': 2696928726L,\n  u'parent_project_id': 2175410421L},\n {u'event_date': u'Wed 29 Aug 2018 15:50:22 +0000',\n  u'event_type': u'completed',\n  u'extra_data': {u'client': u'Todoist-iOS/11.8.2',\n   u'content': u'Fix my shoes (get them from dryharder)'},\n  u'id': 4627558532L,\n  u'initiator_id': None,\n  u'object_id': 2718998589L,\n  u'object_type': u'item',\n  u'parent_item_id': None,\n  u'parent_project_id': 143126184},\n {u'event_date': u'Wed 29 Aug 2018 09:35:36 +0000',\n  u'event_type': u'updated',\n  u'extra_data': {u'client': u'Todoist-iOS/11.8.2',\n   u'content': u'\\u041f\\u0440\\u043e\\u0432\\u0435\\u0440\\u0438\\u0442\\u044c \\u0441\\u043e\\u0441\\u0442\\u043e\\u044f\\u043d\\u0438\\u0435 \\u0434\\u0435\\u043b \\u0441 \\u0410\\u0440\\u0442\\u0435\\u043c\\u043e\\u043c.',\n   u'due_date': u'Thu 27 Sep 2018 18:20:00 +0000',\n   u'last_due_date': u'Tue 28 Aug 2018 18:20:00 +0000'},\n  u'id': 4625427395L,\n  u'initiator_id': None,\n  u'object_id': 2486885880L,\n  u'object_type': u'item',\n  u'parent_item_id': None,\n  u'parent_project_id': 2188063203L},\n {u'event_date': u'Wed 29 Aug 2018 09:27:34 +0000',\n  u'event_type': u'completed',\n  u'extra_data': {u'client': u'Todoist-iOS/11.8.2',\n   u'content': u'Exit checklist. Write down time'},\n  u'id': 4625391164L,\n  u'initiator_id': None,\n  u'object_id': 2694368192L,\n  u'object_type': u'item',\n  u'parent_item_id': None,\n  u'parent_project_id': 2187894601L},\n {u'event_date': u'Wed 29 Aug 2018 09:27:29 +0000',\n  u'event_type': u'added',\n  u'extra_data': {u'client': u'Todoist-iOS/11.8.2',\n   u'content': u'12:27 (went to Starbucks, had lunch)'},\n  u'id': 4625390839L,\n  u'initiator_id': None,\n  u'object_id': 2317335191L,\n  u'object_type': u'note',\n  u'parent_item_id': 2694368192L,\n  u'parent_project_id': 2187894601L},\n {u'event_date': u'Tue 28 Aug 2018 18:02:11 +0000',\n  u'event_type': u'added',\n  u'extra_data': {u'client': u'Todoist-iOS/11.8.2', u'content': u'4.5/5'},\n  u'id': 4622000624L,\n  u'initiator_id': None,\n  u'object_id': 2317067427L,\n  u'object_type': u'note',\n  u'parent_item_id': 2696928726L,\n  u'parent_project_id': 2175410421L},\n {u'event_date': u'Tue 28 Aug 2018 17:49:31 +0000',\n  u'event_type': u'updated',\n  u'extra_data': {u'client': u'Todoist-iOS/11.8.2',\n   u'content': u'Haircut from Yana (Think what I actually want from my hair. For that I actually need starting paying attention to it)',\n   u'due_date': None,\n   u'last_due_date': u'Tue 28 Aug 2018 17:42:00 +0000'},\n  u'id': 4621935579L,\n  u'initiator_id': None,\n  u'object_id': 2690718858L,\n  u'object_type': u'item',\n  u'parent_item_id': None,\n  u'parent_project_id': 2182879223L},\n {u'event_date': u'Tue 28 Aug 2018 07:02:27 +0000',\n  u'event_type': u'updated',\n  u'extra_data': {u'client': u'Mozilla/5.0; Todoist/913',\n   u'content': u'change water filter',\n   u'due_date': u'Wed 28 Nov 2018 20:59:59 +0000',\n   u'last_due_date': u'Mon 27 Aug 2018 20:59:59 +0000'},\n  u'id': 4618363862L,\n  u'initiator_id': None,\n  u'object_id': 2485382846L,\n  u'object_type': u'item',\n  u'parent_item_id': None,\n  u'parent_project_id': 2175597212L},\n {u'event_date': u'Tue 28 Aug 2018 07:02:27 +0000',\n  u'event_type': u'updated',\n  u'extra_data': {u'client': u'Mozilla/5.0; Todoist/913',\n   u'content': u'Meet Dmitry Fedotov',\n   u'due_date': u'Wed 29 Aug 2018 20:59:59 +0000',\n   u'last_due_date': u'Mon 27 Aug 2018 20:59:59 +0000'},\n  u'id': 4618363861L,\n  u'initiator_id': None,\n  u'object_id': 2660385678L,\n  u'object_type': u'item',\n  u'parent_item_id': None,\n  u'parent_project_id': 2185838269L},\n {u'event_date': u'Tue 28 Aug 2018 07:02:27 +0000',\n  u'event_type': u'updated',\n  u'extra_data': {u'client': u'Mozilla/5.0; Todoist/913',\n   u'content': u'Try balance board in Mamontov? With Vanya',\n   u'due_date': u'Tue 28 Aug 2018 14:15:00 +0000',\n   u'last_due_date': u'Mon 27 Aug 2018 14:15:00 +0000'},\n  u'id': 4618363854L,\n  u'initiator_id': None,\n  u'object_id': 2750318971L,\n  u'object_type': u'item',\n  u'parent_item_id': None,\n  u'parent_project_id': 2188064273L},\n {u'event_date': u'Tue 28 Aug 2018 07:02:27 +0000',\n  u'event_type': u'updated',\n  u'extra_data': {u'client': u'Mozilla/5.0; Todoist/913',\n   u'content': u'Remeber to go out for walks with doggos',\n   u'due_date': u'Fri 31 Aug 2018 06:30:00 +0000',\n   u'last_due_date': u'Mon 27 Aug 2018 06:30:00 +0000'},\n  u'id': 4618363822L,\n  u'initiator_id': None,\n  u'object_id': 2728459583L,\n  u'object_type': u'item',\n  u'parent_item_id': None,\n  u'parent_project_id': 2188063203L},\n {u'event_date': u'Tue 28 Aug 2018 07:02:27 +0000',\n  u'event_type': u'updated',\n  u'extra_data': {u'client': u'Mozilla/5.0; Todoist/913',\n   u'content': u'buy coffee beans',\n   u'due_date': u'Wed 05 Sep 2018 20:59:59 +0000',\n   u'last_due_date': u'Sun 26 Aug 2018 20:59:59 +0000'},\n  u'id': 4618363818L,\n  u'initiator_id': None,\n  u'object_id': 2519912146L,\n  u'object_type': u'item',\n  u'parent_item_id': None,\n  u'parent_project_id': 2175597247L},\n {u'event_date': u'Tue 28 Aug 2018 07:02:27 +0000',\n  u'event_type': u'updated',\n  u'extra_data': {u'client': u'Mozilla/5.0; Todoist/913',\n   u'content': u'buy condoms',\n   u'due_date': u'Sat 01 Sep 2018 20:59:59 +0000',\n   u'last_due_date': u'Sun 26 Aug 2018 20:59:59 +0000'},\n  u'id': 4618363816L,\n  u'initiator_id': None,\n  u'object_id': 2624273498L,\n  u'object_type': u'item',\n  u'parent_item_id': None,\n  u'parent_project_id': 2175597247L},\n {u'event_date': u'Tue 28 Aug 2018 07:02:27 +0000',\n  u'event_type': u'updated',\n  u'extra_data': {u'client': u'Mozilla/5.0; Todoist/913',\n   u'content': u'buy/cook some fancy food',\n   u'due_date': u'Tue 11 Sep 2018 20:59:59 +0000',\n   u'last_due_date': u'Sun 26 Aug 2018 20:59:59 +0000'},\n  u'id': 4618363809L,\n  u'initiator_id': None,\n  u'object_id': 2632110481L,\n  u'object_type': u'item',\n  u'parent_item_id': None,\n  u'parent_project_id': 2175597247L},\n {u'event_date': u'Tue 28 Aug 2018 07:02:26 +0000',\n  u'event_type': u'updated',\n  u'extra_data': {u'client': u'Mozilla/5.0; Todoist/913',\n   u'content': u'buy shaving gel',\n   u'due_date': u'Sat 01 Sep 2018 20:59:59 +0000',\n   u'last_due_date': u'Sun 26 Aug 2018 20:59:59 +0000'},\n  u'id': 4618363807L,\n  u'initiator_id': None,\n  u'object_id': 2508137518L,\n  u'object_type': u'item',\n  u'parent_item_id': None,\n  u'parent_project_id': 2175597247L},\n {u'event_date': u'Tue 28 Aug 2018 07:02:26 +0000',\n  u'event_type': u'updated',\n  u'extra_data': {u'client': u'Mozilla/5.0; Todoist/913',\n   u'content': u'Lunch',\n   u'due_date': u'Sat 01 Sep 2018 10:00:00 +0000',\n   u'last_due_date': u'Sun 26 Aug 2018 10:00:00 +0000'},\n  u'id': 4618363805L,\n  u'initiator_id': None,\n  u'object_id': 2486744392L,\n  u'object_type': u'item',\n  u'parent_item_id': None,\n  u'parent_project_id': 2175410421L},\n {u'event_date': u'Tue 28 Aug 2018 07:02:26 +0000',\n  u'event_type': u'updated',\n  u'extra_data': {u'client': u'Mozilla/5.0; Todoist/913',\n   u'content': u'drinking alcohol monItor',\n   u'due_date': u'Sat 01 Sep 2018 20:59:00 +0000',\n   u'last_due_date': u'Sun 26 Aug 2018 20:59:00 +0000'},\n  u'id': 4618363804L,\n  u'initiator_id': None,\n  u'object_id': 2625881400L,\n  u'object_type': u'item',\n  u'parent_item_id': None,\n  u'parent_project_id': 2176120833L},\n {u'event_date': u'Tue 28 Aug 2018 07:02:26 +0000',\n  u'event_type': u'updated',\n  u'extra_data': {u'client': u'Mozilla/5.0; Todoist/913',\n   u'content': u'Buy mouthwash',\n   u'due_date': u'Sat 01 Sep 2018 20:59:59 +0000',\n   u'last_due_date': u'Sun 26 Aug 2018 20:59:59 +0000'},\n  u'id': 4618363798L,\n  u'initiator_id': None,\n  u'object_id': 2488155128L,\n  u'object_type': u'item',\n  u'parent_item_id': None,\n  u'parent_project_id': 2175597247L},\n {u'event_date': u'Tue 28 Aug 2018 07:02:26 +0000',\n  u'event_type': u'updated',\n  u'extra_data': {u'client': u'Mozilla/5.0; Todoist/913',\n   u'content': u'Pluck eyebrows',\n   u'due_date': u'Tue 11 Sep 2018 06:34:00 +0000',\n   u'last_due_date': u'Sun 26 Aug 2018 06:34:00 +0000'},\n  u'id': 4618363791L,\n  u'initiator_id': None,\n  u'object_id': 2489285551L,\n  u'object_type': u'item',\n  u'parent_item_id': None,\n  u'parent_project_id': 2176293650L},\n {u'event_date': u'Tue 28 Aug 2018 07:02:26 +0000',\n  u'event_type': u'updated',\n  u'extra_data': {u'client': u'Mozilla/5.0; Todoist/913',\n   u'content': u'Pick hair from nose',\n   u'due_date': u'Tue 11 Sep 2018 06:24:00 +0000',\n   u'last_due_date': u'Sun 26 Aug 2018 06:24:00 +0000'},\n  u'id': 4618363789L,\n  u'initiator_id': None,\n  u'object_id': 2489285670L,\n  u'object_type': u'item',\n  u'parent_item_id': None,\n  u'parent_project_id': 2176293650L},\n {u'event_date': u'Tue 28 Aug 2018 07:02:26 +0000',\n  u'event_type': u'updated',\n  u'extra_data': {u'client': u'Mozilla/5.0; Todoist/913',\n   u'content': u'Breakfast',\n   u'due_date': u'Sun 02 Sep 2018 06:30:00 +0000',\n   u'last_due_date': u'Sun 26 Aug 2018 06:30:00 +0000'},\n  u'id': 4618363787L,\n  u'initiator_id': None,\n  u'object_id': 2486744305L,\n  u'object_type': u'item',\n  u'parent_item_id': None,\n  u'parent_project_id': 2175410421L},\n {u'event_date': u'Tue 28 Aug 2018 07:02:26 +0000',\n  u'event_type': u'updated',\n  u'extra_data': {u'client': u'Mozilla/5.0; Todoist/913',\n   u'content': u'Clean and sort out working table',\n   u'due_date': u'Wed 29 Aug 2018 20:59:59 +0000',\n   u'last_due_date': u'Sat 25 Aug 2018 20:59:59 +0000'},\n  u'id': 4618363777L,\n  u'initiator_id': None,\n  u'object_id': 2485638485L,\n  u'object_type': u'item',\n  u'parent_item_id': None,\n  u'parent_project_id': 2175597212L}]"
      ]
     },
     "execution_count": 11,
     "metadata": {},
     "output_type": "execute_result"
    }
   ],
   "source": [
    ""
   ]
  },
  {
   "cell_type": "code",
   "execution_count": 18,
   "metadata": {
    "collapsed": true
   },
   "outputs": [
    {
     "data": {
      "text/plain": [
       "Item({u'all_day': False,\n u'assigned_by_uid': 4405058,\n u'checked': 0,\n u'collapsed': 0,\n u'content': u'\\u0438\\u0440\\u0440\\u0438\\u0433\\u0430\\u0442\\u043e\\u0440',\n u'date_added': u'Fri 12 Jun 2015 17:21:12 +0000',\n u'date_completed': None,\n u'date_lang': None,\n u'date_string': None,\n u'day_order': -1,\n u'due_date_utc': None,\n u'has_more_notes': False,\n u'id': 7104735,\n u'in_history': 0,\n u'indent': 1,\n u'is_archived': 0,\n u'is_deleted': 0,\n u'item_order': 1,\n u'labels': [2149331073L],\n u'parent_id': None,\n u'priority': 2,\n u'project_id': 143126188,\n u'responsible_uid': None,\n u'sync_id': None,\n u'user_id': 4405058})"
      ]
     },
     "execution_count": 18,
     "metadata": {},
     "output_type": "execute_result"
    }
   ],
   "source": [
    "api.items.all()[0]"
   ]
  },
  {
   "cell_type": "code",
   "execution_count": 17,
   "metadata": {},
   "outputs": [
    {
     "name": "stdout",
     "output_type": "stream",
     "text": [
      "ирригатор\n"
     ]
    }
   ],
   "source": [
    "print(u'\\u0438\\u0440\\u0440\\u0438\\u0433\\u0430\\u0442\\u043e\\u0440')"
   ]
  },
  {
   "cell_type": "code",
   "execution_count": 24,
   "metadata": {},
   "outputs": [
    {
     "data": {
      "text/plain": [
       "todoist.models.Project"
      ]
     },
     "execution_count": 24,
     "metadata": {},
     "output_type": "execute_result"
    }
   ],
   "source": [
    "type(api.state['projects'][10])"
   ]
  },
  {
   "cell_type": "code",
   "execution_count": 25,
   "metadata": {},
   "outputs": [
    {
     "ename": "SyntaxError",
     "evalue": "invalid syntax (<ipython-input-25-bf9336393a87>, line 5)",
     "traceback": [
      "\u001b[1;36m  File \u001b[1;32m\"<ipython-input-25-bf9336393a87>\"\u001b[1;36m, line \u001b[1;32m5\u001b[0m\n\u001b[1;33m    self._name =\u001b[0m\n\u001b[1;37m                 ^\u001b[0m\n\u001b[1;31mSyntaxError\u001b[0m\u001b[1;31m:\u001b[0m invalid syntax\n"
     ],
     "output_type": "error"
    }
   ],
   "source": [
    "\n",
    "    "
   ]
  },
  {
   "cell_type": "code",
   "execution_count": 26,
   "metadata": {},
   "outputs": [],
   "source": [
    "# import pandas as pd"
   ]
  },
  {
   "cell_type": "code",
   "execution_count": 27,
   "metadata": {},
   "outputs": [],
   "source": [
    "# pd.DataFrame.from_csv()\n"
   ]
  },
  {
   "cell_type": "code",
   "execution_count": 35,
   "metadata": {},
   "outputs": [],
   "source": [
    "# so what i'm trying to do now:\n"
   ]
  },
  {
   "cell_type": "code",
   "execution_count": 37,
   "metadata": {},
   "outputs": [],
   "source": [
    "rules = []\n",
    "def process_task(task):\n",
    "    for rule in rules:\n",
    "        if rule.is_eligible(task):\n",
    "            pass"
   ]
  },
  {
   "cell_type": "code",
   "execution_count": 38,
   "metadata": {},
   "outputs": [],
   "source": [
    ""
   ]
  },
  {
   "cell_type": "code",
   "execution_count": 38,
   "metadata": {},
   "outputs": [],
   "source": [
    ""
   ]
  },
  {
   "cell_type": "code",
   "execution_count": 38,
   "metadata": {},
   "outputs": [],
   "source": [
    "# learn how to define whether i can touch the task or not"
   ]
  },
  {
   "cell_type": "code",
   "execution_count": 48,
   "metadata": {},
   "outputs": [
    {
     "ename": "IndentationError",
     "evalue": "expected an indented block (<ipython-input-48-90fb7a434621>, line 9)",
     "traceback": [
      "\u001b[1;36m  File \u001b[1;32m\"<ipython-input-48-90fb7a434621>\"\u001b[1;36m, line \u001b[1;32m9\u001b[0m\n\u001b[1;33m    self._project = None\u001b[0m\n\u001b[1;37m       ^\u001b[0m\n\u001b[1;31mIndentationError\u001b[0m\u001b[1;31m:\u001b[0m expected an indented block\n"
     ],
     "output_type": "error"
    }
   ],
   "source": [
    "import threading\n",
    "import time\n",
    "import datetime\n",
    "\n",
    "import defaults\n",
    "\n",
    "class Folder(object):\n",
    "    def __init__(self, project, assistant=None):\n",
    "        self._todoist_project_id = project['id']\n",
    "        if assistant is None:\n",
    "            \n",
    "        self._project = None\n",
    "        self._parent = None\n",
    "        self._children = set()\n",
    "    \n",
    "    # @classmethod\n",
    "    # def from_project(cls, project):\n",
    "    #     self.project_id = project['id']\n",
    "    \n",
    "    \n",
    "\n",
    "    \n",
    "    \n",
    "        \n",
    "# class FolderTree(object):\n",
    "#     def __init__(self):\n",
    "#         self._root = None\n",
    "#         # self._projects = dict() # id ->\n",
    "#         self._projects_by_id = dict()\n",
    "#         self._projects_by_path = dict()\n",
    "#         \n",
    "#     \n",
    "#     @property\n",
    "#     def projects(self):\n",
    "#         return self._projects_by_id.values()\n",
    "#         \n",
    "#     def load_projects(self, projects):\n",
    "#         \n",
    "#     def __getitem__(self, item):\n",
    "#         # case 1: item == id\n",
    "#         if item in self._projects_by_id\n",
    "\n",
    "class Task(object):\n",
    "    def __init__(self, item, personal_assistant=None):\n",
    "        self._personal_assistant = personal_assistant or defaults.assistant\n",
    "        \n",
    "        # if item is not None:\n",
    "        self._todoist_item_id = item['id']\n",
    "        # else:\n",
    "        #     self.create_todoist_task()\n",
    "            \n",
    "        self.processed = False\n",
    "        \n",
    "    @property\n",
    "    def project(self):\n",
    "        return \n",
    "    \n",
    "    @property\n",
    "    def personal_assistant(self):\n",
    "        return self._personal_assistant\n",
    "    \n",
    "    pa = personal_assistant\n",
    "    \n",
    "    @property\n",
    "    def item(self):\n",
    "        return self.pa. \n",
    "    # def create_todoist_task(self):\n",
    "    \n",
    "    \n",
    "\n",
    "class PersonalAssistant(object):\n",
    "    def __init__(self, api_token=None):\n",
    "        \n",
    "        self._ASSISTANT_COOLDOWN = 1\n",
    "        self._lock = threading.RLock()\n",
    "        self._run_assistant = False\n",
    "        self._assistant_status = False\n",
    "        self._assistant_thread = None\n",
    "        self.autosync_api = False\n",
    "        self._AUTOSYNC_COOLDOWN = 1\n",
    "        self._last_api_sync_timestamp = None\n",
    "        self._REVISION_COOLDOWN = 60\n",
    "        self._revision_countdown = 0\n",
    "        \n",
    "        self._api = None\n",
    "        self.connect_to_todoist(api_token)\n",
    "        \n",
    "        self._included_paths = []\n",
    "        self._excluded_paths = []\n",
    "        self.configure_permitted_paths()\n",
    "        \n",
    "        self.PROJECTS_REPOSITORY = {project['id']: project for project in self.api.}\n",
    "        \n",
    "        \n",
    "                \n",
    "        self.launch_assistant()\n",
    "        \n",
    "        if defaults.assistant is None:\n",
    "            defaults.assistant = self\n",
    "        \n",
    "    def get_state(self):\n",
    "        state = self.__dict__\n",
    "        # todo: remove api\n",
    "        # todo: PROJECTS - only ids?\n",
    "        return state\n",
    "\n",
    "    def set_state(self, state):\n",
    "        self.__dict__.update(state)\n",
    "        # todo sync todoist api\n",
    "        \n",
    "    def configure_permitted_paths(self, permitted_paths=None):\n",
    "        # 1) define what i can touch and what i can't\n",
    "        # settings_path = os.path.join()\n",
    "        permitted_paths = None\n",
    "        if permitted_paths is None:\n",
    "            try:\n",
    "                permitted_paths = raw_input(\"\"\"\n",
    "        Default: \"personal assistant\". All missing paths will be created.\n",
    "        Enter paths that personal assistant will be in control of\n",
    "        Example: personal assistant, -personal assistant/private\n",
    "        add '-' before the path to exclude it.\n",
    "        If only excluded paths are mentioned - all paths are considered permitted except \n",
    "        If no paths are mentioned \n",
    "            \"\"\")\n",
    "            except:\n",
    "                permitted_paths = ''\n",
    "            if permitted_paths == '':\n",
    "                permitted_paths = \"personal assistant\"\n",
    "            pp = [p.strip().strip('/') for p in permitted_paths.split(',')]\n",
    "            self._included_paths = [p for p in pp if not p.startswith('-')]\n",
    "            self._excluded_paths = [p[1:] for p in pp if p.startswith('-')]\n",
    "            if len(self._included_paths) == 0:\n",
    "                self._included_paths = [\"\"]\n",
    "            \n",
    "    def path_is_permitted(self, path):\n",
    "        return any([path.startswith(p) for p in self._included_paths]) and not any([path.startswith(p) for p in self._excluded_paths])\n",
    "        \n",
    "    \n",
    "    def connect_to_todoist(self, api_token):\n",
    "        import todoist\n",
    "        if api_token is None:\n",
    "            from resources import default_token_path\n",
    "            api_token = default_token_path\n",
    "        if os.path.exists(api_token):\n",
    "            from pyutils import get_token\n",
    "            api_token = get_token(api_token)\n",
    "        self._api = todoist.TodoistAPI(api_token)\n",
    "    \n",
    "    def sync_api(self):\n",
    "        with self._lock:\n",
    "            self._api.sync()\n",
    "            self._last_api_sync_timestamp = datetime.datetime.now()\n",
    "            \n",
    "        \n",
    "        \n",
    "    @property\n",
    "    def api(self):\n",
    "        if self.autosync_api and (datetime.datetime.now() - self._last_api_sync_timestamp > datetime.timedelta(seconds=self._AUTOSYNC_COOLDOWN)):\n",
    "            self.sync_api()\n",
    "        return self._api\n",
    "    \n",
    "    def launch_assistant(self):\n",
    "        if not self.check_assistant_status():\n",
    "            self.run_assistant = True\n",
    "            from pyutils import run_bg\n",
    "            self._assistant_thread = run_bg(self._assistant())\n",
    "            \n",
    "        \n",
    "    def check_assistant_status(self):\n",
    "        with self._lock:\n",
    "            self._assistant_status = False\n",
    "        time.sleep(self._ASSISTANT_COOLDOWN + 0.5)  # if assistatn\n",
    "        with self._lock:\n",
    "            return self._assistant_status\n",
    "        \n",
    "    def _assistant(self):\n",
    "        while self.run_assistant:\n",
    "            if self._revision_countdown <= 0:\n",
    "                tasks_to_process = self.get_unprocessed_tasks()\n",
    "                self._revision_countdown = self._REVISION_COOLDOWN\n",
    "            else:\n",
    "                tasks_to_process = self.get_updated_tasks()\n",
    "            \n",
    "            for task in tasks_to_process:\n",
    "                self.process_task(task)\n",
    "            \n",
    "            time.sleep(self._ASSISTANT_COOLDOWN)\n",
    "                        \n",
    "    @property\n",
    "    def run_assistant(self):\n",
    "        with self._lock:\n",
    "            return self._run_assistant\n",
    "    \n",
    "    @run_assistant.setter\n",
    "    def run_assistant(self, value):\n",
    "        with self._lock:\n",
    "            self._run_assistant = value\n",
    "        \n",
    "    def get_updated_tasks(self):\n",
    "        updates = self._api.activity\n",
    "        return []\n",
    "    \n",
    "    def get_unprocessed_tasks(self):\n",
    "        return [task for task in self.tasks if task.project.path_is_permitted and not task.processed]\n",
    "    \n",
    "    @property\n",
    "    def tasks(self):\n",
    "        return self._tasks\n",
    "            \n",
    "        \n",
    "    def create_project(self, name, parent):\n",
    "    \n",
    "        \n",
    "        \n",
    "\n",
    "\n",
    "self = PersonalAssistant()  "
   ]
  },
  {
   "cell_type": "code",
   "execution_count": 39,
   "metadata": {},
   "outputs": [],
   "source": [
    "self.projects = \n"
   ]
  },
  {
   "cell_type": "code",
   "execution_count": 18,
   "metadata": {},
   "outputs": [
    {
     "ename": "KeyError",
     "evalue": "0",
     "traceback": [
      "\u001b[1;31m---------------------------------------------------------------------------\u001b[0m",
      "\u001b[1;31mKeyError\u001b[0m                                  Traceback (most recent call last)",
      "\u001b[1;32m<ipython-input-18-2b89c033b3dd>\u001b[0m in \u001b[0;36m<module>\u001b[1;34m()\u001b[0m\n\u001b[0;32m      3\u001b[0m \u001b[1;31m# api = todoist.TodoistAPI(get_token())\u001b[0m\u001b[1;33m\u001b[0m\u001b[1;33m\u001b[0m\u001b[0m\n\u001b[0;32m      4\u001b[0m \u001b[1;33m\u001b[0m\u001b[0m\n\u001b[1;32m----> 5\u001b[1;33m \u001b[0mset\u001b[0m\u001b[1;33m(\u001b[0m\u001b[1;33m[\u001b[0m\u001b[0mk\u001b[0m\u001b[1;33m[\u001b[0m\u001b[1;34m'type'\u001b[0m\u001b[1;33m]\u001b[0m \u001b[1;32mfor\u001b[0m \u001b[0mk\u001b[0m \u001b[1;32min\u001b[0m \u001b[0mapi\u001b[0m\u001b[1;33m.\u001b[0m\u001b[0mitems\u001b[0m\u001b[1;33m.\u001b[0m\u001b[0mall\u001b[0m\u001b[1;33m(\u001b[0m\u001b[1;33m)\u001b[0m \u001b[1;32mif\u001b[0m \u001b[1;34m'type'\u001b[0m \u001b[1;32min\u001b[0m \u001b[0mk\u001b[0m\u001b[1;33m]\u001b[0m\u001b[1;33m)\u001b[0m\u001b[1;33m\u001b[0m\u001b[0m\n\u001b[0m",
      "\u001b[1;32mF:\\Anaconda\\lib\\site-packages\\todoist\\models.pyc\u001b[0m in \u001b[0;36m__getitem__\u001b[1;34m(self, key)\u001b[0m\n\u001b[0;32m     15\u001b[0m \u001b[1;33m\u001b[0m\u001b[0m\n\u001b[0;32m     16\u001b[0m     \u001b[1;32mdef\u001b[0m \u001b[0m__getitem__\u001b[0m\u001b[1;33m(\u001b[0m\u001b[0mself\u001b[0m\u001b[1;33m,\u001b[0m \u001b[0mkey\u001b[0m\u001b[1;33m)\u001b[0m\u001b[1;33m:\u001b[0m\u001b[1;33m\u001b[0m\u001b[0m\n\u001b[1;32m---> 17\u001b[1;33m         \u001b[1;32mreturn\u001b[0m \u001b[0mself\u001b[0m\u001b[1;33m.\u001b[0m\u001b[0mdata\u001b[0m\u001b[1;33m[\u001b[0m\u001b[0mkey\u001b[0m\u001b[1;33m]\u001b[0m\u001b[1;33m\u001b[0m\u001b[0m\n\u001b[0m\u001b[0;32m     18\u001b[0m \u001b[1;33m\u001b[0m\u001b[0m\n\u001b[0;32m     19\u001b[0m     \u001b[1;32mdef\u001b[0m \u001b[0m__repr__\u001b[0m\u001b[1;33m(\u001b[0m\u001b[0mself\u001b[0m\u001b[1;33m)\u001b[0m\u001b[1;33m:\u001b[0m\u001b[1;33m\u001b[0m\u001b[0m\n",
      "\u001b[1;31mKeyError\u001b[0m: 0"
     ],
     "output_type": "error"
    }
   ],
   "source": [
    "import todoist\n",
    "from pyutils import get_token\n",
    "# api = todoist.TodoistAPI(get_token())\n",
    "\n",
    "set([k['type'] for k in api.items.all() if 'type' in k])"
   ]
  },
  {
   "cell_type": "code",
   "execution_count": 19,
   "metadata": {},
   "outputs": [
    {
     "data": {
      "text/plain": [
       "Item({u'all_day': False,\n u'assigned_by_uid': 4405058,\n u'checked': 0,\n u'collapsed': 0,\n u'content': u'\\u0438\\u0440\\u0440\\u0438\\u0433\\u0430\\u0442\\u043e\\u0440',\n u'date_added': u'Fri 12 Jun 2015 17:21:12 +0000',\n u'date_completed': None,\n u'date_lang': None,\n u'date_string': None,\n u'day_order': -1,\n u'due_date_utc': None,\n u'has_more_notes': False,\n u'id': 7104735,\n u'in_history': 0,\n u'indent': 1,\n u'is_archived': 0,\n u'is_deleted': 0,\n u'item_order': 1,\n u'labels': [2149331073L],\n u'parent_id': None,\n u'priority': 2,\n u'project_id': 143126188,\n u'responsible_uid': None,\n u'sync_id': None,\n u'user_id': 4405058})"
      ]
     },
     "execution_count": 19,
     "metadata": {},
     "output_type": "execute_result"
    }
   ],
   "source": [
    "api.items.all()[0]"
   ]
  },
  {
   "cell_type": "code",
   "execution_count": 22,
   "metadata": {},
   "outputs": [],
   "source": [
    "api.state.items()"
   ]
  },
  {
   "cell_type": "code",
   "execution_count": 41,
   "metadata": {},
   "outputs": [],
   "source": [
    "from collections import defaultdict\n",
    "counter = defaultdict(int)\n",
    "for item in api.state['items']:\n",
    "    for k in item.__dict__['data'].keys():\n",
    "        counter[k] += 1"
   ]
  },
  {
   "cell_type": "code",
   "execution_count": 47,
   "metadata": {},
   "outputs": [],
   "source": [
    "# counter"
   ]
  },
  {
   "cell_type": "code",
   "execution_count": 46,
   "metadata": {},
   "outputs": [],
   "source": [
    "# item.__dict__"
   ]
  },
  {
   "cell_type": "code",
   "execution_count": 46,
   "metadata": {},
   "outputs": [],
   "source": [
    ""
   ]
  },
  {
   "cell_type": "code",
   "execution_count": 38,
   "metadata": {},
   "outputs": [],
   "source": []
  },
  {
   "cell_type": "code",
   "execution_count": 51,
   "metadata": {
    "collapsed": true
   },
   "outputs": [],
   "source": [
    ""
   ]
  },
  {
   "cell_type": "code",
   "execution_count": 38,
   "metadata": {},
   "outputs": [],
   "source": []
  },
  {
   "cell_type": "code",
   "execution_count": 38,
   "metadata": {},
   "outputs": [],
   "source": []
  },
  {
   "cell_type": "code",
   "execution_count": 38,
   "metadata": {},
   "outputs": [],
   "source": []
  },
  {
   "cell_type": "code",
   "execution_count": 58,
   "metadata": {},
   "outputs": [
    {
     "data": {
      "text/plain": [
       "Project({u'collapsed': 0,\n u'color': 11,\n u'has_more_notes': False,\n u'id': 2183890184L,\n u'indent': 1,\n u'is_archived': 0,\n u'is_deleted': 0,\n u'is_favorite': 0,\n u'item_order': 1,\n u'name': u'Behavioral modulators',\n u'parent_id': None,\n u'shared': False})"
      ]
     },
     "execution_count": 58,
     "metadata": {},
     "output_type": "execute_result"
    }
   ],
   "source": [
    "api.projects.all()[0]"
   ]
  },
  {
   "cell_type": "code",
   "execution_count": 51,
   "metadata": {},
   "outputs": [],
   "source": [
    "project = api.projects.add('personal assistant')"
   ]
  },
  {
   "cell_type": "code",
   "execution_count": 59,
   "metadata": {
    "collapsed": true
   },
   "outputs": [
    {
     "data": {
      "text/plain": [
       "{u'collaborator_states': [],\n u'collaborators': [],\n u'day_orders': {},\n u'day_orders_timestamp': u'1534853157.96',\n u'filters': [],\n u'full_sync': False,\n u'items': [],\n u'labels': [],\n u'live_notifications': [],\n u'live_notifications_last_read_id': 2195079423L,\n u'notes': [],\n u'project_notes': [],\n u'projects': [{u'collapsed': 0,\n   u'color': 21,\n   u'id': 2201412629L,\n   u'indent': 1,\n   u'is_archived': 0,\n   u'is_deleted': 0,\n   u'is_favorite': 0,\n   u'item_order': 52,\n   u'name': u'personal assistant',\n   u'parent_id': None,\n   u'shared': False}],\n u'reminders': [],\n u'sync_status': {u'2a275a81-017e-11e9-b9e6-f832e46ed0ca': u'ok'},\n u'sync_token': u'1gjN2Qf5V-K4Ri13tMaPRTwbxeefUcFVuUcNHwDX6-Eui7zpGZIbxVtoHZwP0JLlZMv70Aiy3XKX0rQBXMx-zxvibvIfbkk4b4PvGjSRWaeA',\n u'temp_id_mapping': {u'$2a275a80-017e-11e9-b340-f832e46ed0ca': 2201412629L}}"
      ]
     },
     "execution_count": 59,
     "metadata": {},
     "output_type": "execute_result"
    }
   ],
   "source": [
    "api.commit()"
   ]
  },
  {
   "cell_type": "code",
   "execution_count": 63,
   "metadata": {},
   "outputs": [],
   "source": [
    "p = api.projects.get_by_id(2201412629L)"
   ]
  },
  {
   "cell_type": "code",
   "execution_count": 66,
   "metadata": {},
   "outputs": [],
   "source": [
    "p.update(parent_id= 2183890184L)"
   ]
  },
  {
   "cell_type": "code",
   "execution_count": 65,
   "metadata": {
    "collapsed": false
   },
   "outputs": [
    {
     "data": {
      "text/plain": [
       "Project({u'collapsed': 0,\n u'color': 11,\n u'has_more_notes': False,\n u'id': 2183890184L,\n u'indent': 1,\n u'is_archived': 0,\n u'is_deleted': 0,\n u'is_favorite': 0,\n u'item_order': 1,\n u'name': u'Behavioral modulators',\n u'parent_id': None,\n u'shared': False})"
      ]
     },
     "execution_count": 65,
     "metadata": {},
     "output_type": "execute_result"
    }
   ],
   "source": [
    "api.projects.all()[0]"
   ]
  },
  {
   "cell_type": "code",
   "execution_count": 67,
   "metadata": {},
   "outputs": [
    {
     "data": {
      "text/plain": [
       "Project({u'collapsed': 0,\n u'color': 21,\n 'id': 2201412629L,\n u'indent': 1,\n u'is_archived': 0,\n u'is_deleted': 0,\n u'is_favorite': 0,\n u'item_order': 52,\n 'name': u'personal assistant',\n u'parent_id': 2183890184L,\n u'shared': False})"
      ]
     },
     "execution_count": 67,
     "metadata": {},
     "output_type": "execute_result"
    }
   ],
   "source": [
    "p"
   ]
  },
  {
   "cell_type": "code",
   "execution_count": 69,
   "metadata": {},
   "outputs": [
    {
     "data": {
      "text/plain": [
       "{u'collaborator_states': [],\n u'collaborators': [],\n u'day_orders': {},\n u'day_orders_timestamp': u'1534853157.96',\n u'filters': [],\n u'full_sync': False,\n u'items': [],\n u'labels': [],\n u'live_notifications': [],\n u'live_notifications_last_read_id': 2195079423L,\n u'notes': [],\n u'project_notes': [],\n u'projects': [{u'collapsed': 0,\n   u'color': 21,\n   u'id': 2201412629L,\n   u'indent': 1,\n   u'is_archived': 0,\n   u'is_deleted': 0,\n   u'is_favorite': 0,\n   u'item_order': 52,\n   u'name': u'personal assistant',\n   u'parent_id': 2183890184L,\n   u'shared': False}],\n u'reminders': [],\n u'sync_status': {u'379c1100-017f-11e9-bea4-f832e46ed0ca': u'ok',\n  u'66f1d570-017f-11e9-88a4-f832e46ed0ca': u'ok'},\n u'sync_token': u'HiwIYuPCixtMifOGxYHvfyEHJQrMweRMF63hUlR25quJoS9nnlAac7CnCJJsnFjrplDs75hgKUzsHCWof9nItXF60-jRmZ-1nFXCiBKLIOlX',\n u'temp_id_mapping': {}}"
      ]
     },
     "execution_count": 69,
     "metadata": {},
     "output_type": "execute_result"
    }
   ],
   "source": [
    "api.commit()"
   ]
  },
  {
   "cell_type": "code",
   "execution_count": null,
   "metadata": {},
   "outputs": [],
   "source": []
  }
 ],
 "metadata": {
  "kernelspec": {
   "display_name": "Python 2",
   "language": "python",
   "name": "python2"
  },
  "language_info": {
   "codemirror_mode": {
    "name": "ipython",
    "version": 2
   },
   "file_extension": ".py",
   "mimetype": "text/x-python",
   "name": "python",
   "nbconvert_exporter": "python",
   "pygments_lexer": "ipython2",
   "version": "2.7.6"
  }
 },
 "nbformat": 4,
 "nbformat_minor": 0
}
