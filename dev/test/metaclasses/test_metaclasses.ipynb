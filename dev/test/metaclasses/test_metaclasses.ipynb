{
 "cells": [
  {
   "cell_type": "code",
   "execution_count": 12,
   "metadata": {
    "collapsed": true
   },
   "outputs": [],
   "source": [
    "class MyMeta(type):\n",
    "    def __new__(meta, name, bases, dct):\n",
    "        print '-----------------------------------'\n",
    "        print \"Allocating memory for class\", name\n",
    "        print meta\n",
    "        print bases\n",
    "        print dct\n",
    "        return super(MyMeta, meta).__new__(meta, name, bases, dct)\n",
    "    \n",
    "    def __init__(cls, name, bases, dct):\n",
    "        print '-----------------------------------'\n",
    "        print \"Initializing class\", name\n",
    "        print cls\n",
    "        print bases\n",
    "        print dct\n",
    "        super(MyMeta, cls).__init__(name, bases, dct)\n",
    "        "
   ]
  },
  {
   "cell_type": "code",
   "execution_count": 13,
   "metadata": {},
   "outputs": [
    {
     "name": "stdout",
     "output_type": "stream",
     "text": [
      "-----------------------------------\nAllocating memory for class Test\n<class '__main__.MyMeta'>\n(<type 'object'>,)\n{'__module__': '__main__', '__metaclass__': <class '__main__.MyMeta'>}\n-----------------------------------\nInitializing class Test\n<class '__main__.Test'>\n(<type 'object'>,)\n{'__module__': '__main__', '__metaclass__': <class '__main__.MyMeta'>}\n"
     ]
    }
   ],
   "source": [
    "class Test(object):\n",
    "    __metaclass__ = MyMeta\n",
    "    pass"
   ]
  },
  {
   "cell_type": "code",
   "execution_count": 6,
   "metadata": {},
   "outputs": [],
   "source": [
    "t = Test()"
   ]
  },
  {
   "cell_type": "code",
   "execution_count": 17,
   "metadata": {},
   "outputs": [
    {
     "name": "stdout",
     "output_type": "stream",
     "text": [
      "-----------------------------------\nAllocating memory for class Test2\n<class '__main__.MyMeta'>\n(<class '__main__.Test'>,)\n{'__module__': '__main__', 'from_nothing': <classmethod object at 0x10880f4b0>}\n-----------------------------------\nInitializing class Test2\n<class '__main__.Test2'>\n(<class '__main__.Test'>,)\n{'__module__': '__main__', 'from_nothing': <classmethod object at 0x10880f4b0>}\n"
     ]
    }
   ],
   "source": [
    "class Test2(Test):\n",
    "    @classmethod\n",
    "    def from_nothing(cls):\n",
    "        new = Test2.__new__(cls)\n",
    "        return new"
   ]
  },
  {
   "cell_type": "code",
   "execution_count": 18,
   "metadata": {},
   "outputs": [],
   "source": [
    "t = Test2.from_nothing()"
   ]
  },
  {
   "cell_type": "code",
   "execution_count": null,
   "metadata": {},
   "outputs": [],
   "source": []
  }
 ],
 "metadata": {
  "kernelspec": {
   "display_name": "Python 2",
   "language": "python",
   "name": "python2"
  },
  "language_info": {
   "codemirror_mode": {
    "name": "ipython",
    "version": 2
   },
   "file_extension": ".py",
   "mimetype": "text/x-python",
   "name": "python",
   "nbconvert_exporter": "python",
   "pygments_lexer": "ipython2",
   "version": "2.7.6"
  }
 },
 "nbformat": 4,
 "nbformat_minor": 0
}
