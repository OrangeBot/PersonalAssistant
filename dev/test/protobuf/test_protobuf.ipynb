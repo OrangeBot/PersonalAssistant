{
 "cells": [
  {
   "cell_type": "code",
   "execution_count": 1,
   "metadata": {
    "collapsed": true
   },
   "outputs": [
    {
     "name": "stdout",
     "output_type": "stream",
     "text": [
      "['', '/Users/plavrov/work/pyutils', '/Users/plavrov/work/PersonalAssistant', '/Users/plavrov/work/PersonalAssistant/dev/test/protobuf/proto', '/Users/plavrov/.conda/envs/pycharm/lib/python27.zip', '/Users/plavrov/.conda/envs/pycharm/lib/python2.7', '/Users/plavrov/.conda/envs/pycharm/lib/python2.7/plat-darwin', '/Users/plavrov/.conda/envs/pycharm/lib/python2.7/plat-mac', '/Users/plavrov/.conda/envs/pycharm/lib/python2.7/plat-mac/lib-scriptpackages', '/Users/plavrov/.conda/envs/pycharm/lib/python2.7/lib-tk', '/Users/plavrov/.conda/envs/pycharm/lib/python2.7/lib-old', '/Users/plavrov/.conda/envs/pycharm/lib/python2.7/lib-dynload', '/Users/plavrov/.conda/envs/pycharm/lib/python2.7/site-packages', '/Users/plavrov/.conda/envs/pycharm/lib/python2.7/site-packages/IPython/extensions', '/Users/plavrov/.ipython']\n"
     ]
    }
   ],
   "source": [
    "# # from dev.test.protobuf.proto import TTest\n",
    "# import os\n",
    "# os.getcwd()\n",
    "import sys\n",
    "print(sys.path)\n",
    "# from dev.test.protobuf.proto.test_pb2 import TTest\n",
    "\n",
    "import test_pb2"
   ]
  },
  {
   "cell_type": "code",
   "execution_count": 2,
   "metadata": {},
   "outputs": [],
   "source": [
    "def to_camel_case(s):\n",
    "    return ''.join([w.title() for w in s.split('_')])\n",
    "import re\n",
    "first_cap_re = re.compile('(.)([A-Z][a-z]+)')\n",
    "all_cap_re = re.compile('([a-z0-9])([A-Z])')\n",
    "def to_snake_case(s):\n",
    "    s1 = first_cap_re.sub(r'\\1_\\2', name)\n",
    "    return all_cap_re.sub(r'\\1_\\2', s1).lower()\n",
    "\n",
    "import six\n",
    "class Test(object):\n",
    "    def __init__(self, proto_type, uid, plugins):\n",
    "        self.proto_type = proto_type\n",
    "        self.uid = uid\n",
    "        self.plugins = plugins\n",
    "    \n",
    "    def _create_proto(self):\n",
    "        p = self.proto_type()\n",
    "        return self.proto_type(**{to_camel_case(k): v for k, v in six.iteritems(vars(self)) if hasattr(p, to_camel_case(k))})\n",
    "                "
   ]
  },
  {
   "cell_type": "code",
   "execution_count": 3,
   "metadata": {},
   "outputs": [],
   "source": [
    "t = Test(test_pb2.TTest, 'some_uid', ['sp1', 'sp2'])"
   ]
  },
  {
   "cell_type": "code",
   "execution_count": 4,
   "metadata": {},
   "outputs": [],
   "source": [
    "p = t._create_proto()"
   ]
  },
  {
   "cell_type": "code",
   "execution_count": 7,
   "metadata": {},
   "outputs": [
    {
     "data": {
      "text/plain": [
       "Uid: \"some_uid\"\nPlugins: \"sp1\"\nPlugins: \"sp2\"\nPlugins: \"1\""
      ]
     },
     "execution_count": 7,
     "metadata": {},
     "output_type": "execute_result"
    }
   ],
   "source": [
    "p"
   ]
  },
  {
   "cell_type": "code",
   "execution_count": 6,
   "metadata": {},
   "outputs": [],
   "source": [
    "p.Plugins.append('1')"
   ]
  },
  {
   "cell_type": "code",
   "execution_count": 37,
   "metadata": {},
   "outputs": [],
   "source": [
    "x = test_pb2.TTest"
   ]
  },
  {
   "cell_type": "code",
   "execution_count": 17,
   "metadata": {},
   "outputs": [
    {
     "data": {
      "text/plain": [
       "<module 'test_pb2' from '/Users/plavrov/work/PersonalAssistant/dev/test/protobuf/proto/test_pb2.py'>"
      ]
     },
     "execution_count": 17,
     "metadata": {},
     "output_type": "execute_result"
    }
   ],
   "source": [
    "class PluginItem(type):\n",
    "    def __init__(self, proto_type):\n",
    "        self.proto_type = proto_type\n",
    "        self._proto = self._create_proto()\n",
    "    \n",
    "    def _create_proto(self):\n",
    "        p = self.proto_type()\n",
    "        return self.proto_type(**{to_camel_case(k): v for k, v in six.iteritems(vars(self)) if hasattr(p, to_camel_case(k))})\n",
    "    \n",
    "    def __setattr__(self, key, value):\n",
    "        if hasattr(self._proto, to_camel_case(key)):\n",
    "            \n",
    "    def gen_proto_code(self):\n",
    "        for \n",
    "            \n",
    "if __name__ == \"__main__\":\n",
    "    p = PluginItem()\n",
    "    p.gen_proto_code()\n",
    "            "
   ]
  },
  {
   "cell_type": "code",
   "execution_count": 18,
   "metadata": {},
   "outputs": [
    {
     "data": {
      "text/plain": [
       "['Uid', 'Plugins']"
      ]
     },
     "execution_count": 18,
     "metadata": {},
     "output_type": "execute_result"
    }
   ],
   "source": [
    "[field.name for field in test_pb2.TTest.DESCRIPTOR.fields]\n"
   ]
  },
  {
   "cell_type": "code",
   "execution_count": 14,
   "metadata": {},
   "outputs": [],
   "source": [
    "k = list(test_pb2.TTest.DESCRIPTOR.fields)[0]"
   ]
  },
  {
   "cell_type": "code",
   "execution_count": 20,
   "metadata": {},
   "outputs": [
    {
     "data": {
      "text/plain": [
       "['Uid', 'Plugins']"
      ]
     },
     "execution_count": 20,
     "metadata": {},
     "output_type": "execute_result"
    }
   ],
   "source": [
    "[field.name for field in test_pb2.TTest.DESCRIPTOR.fields]"
   ]
  },
  {
   "cell_type": "code",
   "execution_count": 25,
   "metadata": {},
   "outputs": [
    {
     "data": {
      "text/plain": [
       "(google.protobuf.pyext._message.CMessage, google.protobuf.message.Message)"
      ]
     },
     "execution_count": 25,
     "metadata": {},
     "output_type": "execute_result"
    }
   ],
   "source": [
    "test_pb2.TTest.__bases__"
   ]
  },
  {
   "cell_type": "code",
   "execution_count": 27,
   "metadata": {},
   "outputs": [
    {
     "data": {
      "text/plain": [
       "True"
      ]
     },
     "execution_count": 27,
     "metadata": {},
     "output_type": "execute_result"
    }
   ],
   "source": [
    "import google\n",
    "issubclass(test_pb2.TTest, google.protobuf.message.Message)"
   ]
  },
  {
   "cell_type": "code",
   "execution_count": 61,
   "metadata": {},
   "outputs": [],
   "source": [
    "import google\n",
    "class PluginItem(type):\n",
    "    def __new__(meta, name, bases, dct):\n",
    "        res_bases = tuple(base for base in bases if not issubclass(base, google.protobuf.message.Message))\n",
    "        return super(PluginItem, meta).__new__(meta, name, res_bases, dct)\n",
    "    \n",
    "    def __init__(cls, name, bases, dct):\n",
    "        proto_bases = []\n",
    "        res_bases = []\n",
    "        for base in bases:\n",
    "            if issubclass(base, google.protobuf.message.Message):\n",
    "                proto_bases.append(base)\n",
    "            else:\n",
    "                res_bases.append(base)\n",
    "        cls.GEN_PROTOBUF_PROPERTIES = True\n",
    "        super(PluginItem, cls).__init__(name, tuple(res_bases), dct)\n",
    "        assert len(proto_bases) <= 1, \"Can't subclass more than one proto type\"\n",
    "        if proto_bases:\n",
    "            cls.proto_type = proto_bases[0]\n",
    "            if cls.GEN_PROTOBUF_PROPERTIES:\n",
    "                proto_fields = [f.name for f in cls.proto_type.DESCRIPTOR.fields]\n",
    "                missing_fields = [f for f in proto_fields if not hasattr(cls, to_snake_case(f))]\n",
    "                if missing_fields:\n",
    "                    message = \"Some protobuf fields are missing\\n\"\n",
    "                    message += \"Add following lines to the {0} class declaration or set {0}.GEN_PROTOBUF_PROPERTIES = False\\n\".format(cls.__name__)\n",
    "                    message += \"def __init__(self, {}):\\n\".format(', '.join(to_snake_case(f) for f in proto_fields))\n",
    "                    message += \"    self._proto = self.proto_type({})\".format(', '.join(to_snake_case(f) for f in proto_fields))\n",
    "                    for f in missing_fields:\n",
    "                        message += \"\"\"\n",
    "@property\n",
    "def {0}(self):\n",
    "    return self._proto.{1}\n",
    "\n",
    "@{0}.setter\n",
    "def {0}(self, {0}):\n",
    "    self._proto.{1} = {0}            \n",
    "\"\"\".format(to_snake_case(f), f)\n",
    "                    print(message)\n",
    "                    "
   ]
  },
  {
   "cell_type": "code",
   "execution_count": 63,
   "metadata": {},
   "outputs": [],
   "source": [
    "class TestItem(object):\n",
    "    __metaclass__ = PluginItem\n",
    "    \n",
    "class TestItem2(TestItem, test_pb2.TTest):\n",
    "    def __init__(self, uid, plugins):\n",
    "        self._proto = self.proto_type(uid, plugins)\n",
    "    @property\n",
    "    def uid(self):\n",
    "        return self._proto.Uid\n",
    "    \n",
    "    @uid.setter\n",
    "    def uid(self, uid):\n",
    "        self._proto.Uid = uid            \n",
    "    \n",
    "    @property\n",
    "    def plugins(self):\n",
    "        return self._proto.Plugins\n",
    "    \n",
    "    @plugins.setter\n",
    "    def plugins(self, plugins):\n",
    "        self._proto.Plugins = plugins   "
   ]
  },
  {
   "cell_type": "code",
   "execution_count": 53,
   "metadata": {},
   "outputs": [],
   "source": [
    "t = TestItem()"
   ]
  },
  {
   "cell_type": "code",
   "execution_count": 54,
   "metadata": {},
   "outputs": [
    {
     "data": {
      "text/plain": [
       "test_pb2.TTest"
      ]
     },
     "execution_count": 54,
     "metadata": {},
     "output_type": "execute_result"
    }
   ],
   "source": [
    "t.proto_type"
   ]
  },
  {
   "cell_type": "code",
   "execution_count": 56,
   "metadata": {},
   "outputs": [],
   "source": [
    "t = TestItem2()"
   ]
  },
  {
   "cell_type": "code",
   "execution_count": 57,
   "metadata": {},
   "outputs": [
    {
     "data": {
      "text/plain": [
       "test_pb2.TTest"
      ]
     },
     "execution_count": 57,
     "metadata": {},
     "output_type": "execute_result"
    }
   ],
   "source": [
    "t.proto_type"
   ]
  },
  {
   "cell_type": "code",
   "execution_count": 58,
   "metadata": {},
   "outputs": [],
   "source": [
    "class Test(object):\n",
    "    def __setattr__(self, key, value):(self):"
   ]
  },
  {
   "cell_type": "code",
   "execution_count": 64,
   "metadata": {},
   "outputs": [
    {
     "ename": "ImportError",
     "evalue": "No module named proto.test_pb2",
     "traceback": [
      "\u001b[0;31m\u001b[0m",
      "\u001b[0;31mImportError\u001b[0mTraceback (most recent call last)",
      "\u001b[0;32m<ipython-input-64-6ee05f4b5d2a>\u001b[0m in \u001b[0;36m<module>\u001b[0;34m()\u001b[0m\n\u001b[0;32m----> 1\u001b[0;31m \u001b[0;32mfrom\u001b[0m \u001b[0mproto\u001b[0m\u001b[0;34m.\u001b[0m\u001b[0mtest_pb2\u001b[0m \u001b[0;32mimport\u001b[0m \u001b[0mTTest\u001b[0m\u001b[0;34m\u001b[0m\u001b[0m\n\u001b[0m",
      "\u001b[0;31mImportError\u001b[0m: No module named proto.test_pb2"
     ],
     "output_type": "error"
    }
   ],
   "source": [
    "from proto.test_pb2 import TTest"
   ]
  },
  {
   "cell_type": "code",
   "execution_count": 65,
   "metadata": {},
   "outputs": [],
   "source": [
    "from test_pb2 import TTest"
   ]
  },
  {
   "cell_type": "code",
   "execution_count": 66,
   "metadata": {},
   "outputs": [],
   "source": [
    "t = TTest()"
   ]
  },
  {
   "cell_type": "code",
   "execution_count": 87,
   "metadata": {},
   "outputs": [],
   "source": [
    "from pyutils import read\n",
    "prototxt_path = 'dev/test/protobuf/proto/test.prototxt'\n",
    "# TTest.FromString(read())"
   ]
  },
  {
   "cell_type": "code",
   "execution_count": 83,
   "metadata": {},
   "outputs": [],
   "source": [
    "from google.protobuf.text_format import Parse"
   ]
  },
  {
   "cell_type": "code",
   "execution_count": 94,
   "metadata": {},
   "outputs": [
    {
     "name": "stdout",
     "output_type": "stream",
     "text": [
      "Help on function Parse in module google.protobuf.text_format:\n\nParse(text, message, allow_unknown_extension=False, allow_field_number=False, descriptor_pool=None)\n    Parses a text representation of a protocol message into a message.\n    \n    NOTE: for historical reasons this function does not clear the input\n    message. This is different from what the binary msg.ParseFrom(...) does.\n    \n    Example\n      a = MyProto()\n      a.repeated_field.append('test')\n      b = MyProto()\n    \n      text_format.Parse(repr(a), b)\n      text_format.Parse(repr(a), b) # repeated_field contains [\"test\", \"test\"]\n    \n      # Binary version:\n      b.ParseFromString(a.SerializeToString()) # repeated_field is now \"test\"\n    \n    Caller is responsible for clearing the message as needed.\n    \n    Args:\n      text: Message text representation.\n      message: A protocol buffer message to merge into.\n      allow_unknown_extension: if True, skip over missing extensions and keep\n        parsing\n      allow_field_number: if True, both field number and field name are allowed.\n      descriptor_pool: A DescriptorPool used to resolve Any types.\n    \n    Returns:\n      The same message passed as argument.\n    \n    Raises:\n      ParseError: On text parsing problems.\n\n"
     ]
    }
   ],
   "source": [
    "help(Parse)"
   ]
  },
  {
   "cell_type": "code",
   "execution_count": 96,
   "metadata": {},
   "outputs": [],
   "source": [
    "x = Parse(read(prototxt_path), TTest())"
   ]
  },
  {
   "cell_type": "code",
   "execution_count": 98,
   "metadata": {},
   "outputs": [
    {
     "data": {
      "text/plain": [
       "'Uid: \"1\"\\nPlugins: \"2\"\\nPlugins: \"3\"\\n'"
      ]
     },
     "execution_count": 98,
     "metadata": {},
     "output_type": "execute_result"
    }
   ],
   "source": [
    "repr(x)"
   ]
  },
  {
   "cell_type": "code",
   "execution_count": 92,
   "metadata": {},
   "outputs": [
    {
     "name": "stdout",
     "output_type": "stream",
     "text": [
      "['', '/Users/plavrov/work/pyutils', '/Users/plavrov/work/PersonalAssistant', '/Users/plavrov/work/PersonalAssistant/dev/test/protobuf/proto', '/Users/plavrov/.conda/envs/pycharm/lib/python27.zip', '/Users/plavrov/.conda/envs/pycharm/lib/python2.7', '/Users/plavrov/.conda/envs/pycharm/lib/python2.7/plat-darwin', '/Users/plavrov/.conda/envs/pycharm/lib/python2.7/plat-mac', '/Users/plavrov/.conda/envs/pycharm/lib/python2.7/plat-mac/lib-scriptpackages', '/Users/plavrov/.conda/envs/pycharm/lib/python2.7/lib-tk', '/Users/plavrov/.conda/envs/pycharm/lib/python2.7/lib-old', '/Users/plavrov/.conda/envs/pycharm/lib/python2.7/lib-dynload', '/Users/plavrov/.conda/envs/pycharm/lib/python2.7/site-packages', '/Users/plavrov/.conda/envs/pycharm/lib/python2.7/site-packages/IPython/extensions', '/Users/plavrov/.ipython']\n"
     ]
    }
   ],
   "source": [
    "import sys\n",
    "print sys.path"
   ]
  },
  {
   "cell_type": "code",
   "execution_count": 100,
   "metadata": {},
   "outputs": [],
   "source": [
    "class Test(object):\n",
    "    def __init__(self):\n",
    "        self._active = False\n",
    "        \n",
    "    @property\n",
    "    def active(self):\n",
    "        return self._active\n",
    "    \n",
    "    @active.setter\n",
    "    def active(self, active):\n",
    "        self._active = active\n",
    "    \n",
    "    def turn_on(self):\n",
    "        self.active = True\n",
    "        \n",
    "    def shut_down(self):\n",
    "        self.active = False"
   ]
  },
  {
   "cell_type": "code",
   "execution_count": 101,
   "metadata": {},
   "outputs": [],
   "source": [
    "t = Test()"
   ]
  },
  {
   "cell_type": "code",
   "execution_count": 103,
   "metadata": {},
   "outputs": [
    {
     "name": "stdout",
     "output_type": "stream",
     "text": [
      "False\nTrue\nFalse\n"
     ]
    }
   ],
   "source": [
    "print(t.active)\n",
    "t.turn_on()\n",
    "print(t.active)\n",
    "t.shut_down()\n",
    "print(t.active)"
   ]
  },
  {
   "cell_type": "code",
   "execution_count": null,
   "metadata": {},
   "outputs": [],
   "source": []
  }
 ],
 "metadata": {
  "kernelspec": {
   "display_name": "Python 2",
   "language": "python",
   "name": "python2"
  },
  "language_info": {
   "codemirror_mode": {
    "name": "ipython",
    "version": 2
   },
   "file_extension": ".py",
   "mimetype": "text/x-python",
   "name": "python",
   "nbconvert_exporter": "python",
   "pygments_lexer": "ipython2",
   "version": "2.7.6"
  }
 },
 "nbformat": 4,
 "nbformat_minor": 0
}
