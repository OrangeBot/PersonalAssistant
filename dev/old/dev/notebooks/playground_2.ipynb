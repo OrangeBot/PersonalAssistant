{
 "cells": [
  {
   "cell_type": "code",
   "execution_count": 1,
   "metadata": {},
   "outputs": [],
   "source": [
    "# imports\n",
    "\n",
    "# step 1, import todoist api\n",
    "from todoist.api import TodoistAPI\n",
    "import sys, os\n",
    "\n",
    "unix_lib_path = os.path.expanduser(\"~/work/pa/PersonalAssistant\")\n",
    "\n",
    "win_lib_path = 'C:\\\\Users\\\\Petr\\\\Desktop\\\\HomeAutomation\\\\PersonalAssistant'\n",
    "\n",
    "\n",
    "def is_unix():\n",
    "    val = os.path.join('_','_')\n",
    "    return val == \"_/_\"\n",
    "\n",
    "\n",
    "if is_unix():\n",
    "    if unix_lib_path not in sys.path:\n",
    "        sys.path.append(unix_lib_path)\n",
    "else:\n",
    "    if win_lib_path not in sys.path:\n",
    "        sys.path.append(win_lib_path)\n",
    "        \n",
    "import dateutil\n",
    "import datetime\n",
    "from lib.stack import *"
   ]
  },
  {
   "cell_type": "code",
   "execution_count": 2,
   "metadata": {},
   "outputs": [],
   "source": [
    "# overview of already implemented functionality\n",
    "\n",
    "# part 1 - classes and structures. Todoist: item, project. My: Task, Folder\n",
    "# t = Task()\n",
    "# f = Folder()\n",
    "\n",
    "pa = PersonalAssistant(debug=True)"
   ]
  },
  {
   "cell_type": "code",
   "execution_count": 3,
   "metadata": {},
   "outputs": [],
   "source": [
    "import six\n",
    "t = list(pa.tasks)[0]\n",
    "# six.itervalues(pa._tasks)[0]\n",
    "p = list(pa.projects)[0]\n",
    "\n",
    "# part 2 - first meaningfbul feature - reschedule overdue task"
   ]
  },
  {
   "cell_type": "code",
   "execution_count": 4,
   "metadata": {},
   "outputs": [
    {
     "name": "stdout",
     "output_type": "stream",
     "text": [
      "Tick-tock, i'm ticking. 1\n",
      "Tick-tock, i'm ticking. 2\n",
      "Tick-tock, i'm ticking. 3\n",
      "Tick-tock, i'm ticking. 4\n",
      "Tick-tock, i'm ticking. 5\n",
      "Tick-tock, i'm ticking. 6\n"
     ]
    }
   ],
   "source": [
    "holder = dict()\n",
    "holder['counter'] = 0\n",
    "def ticker():\n",
    "    holder['counter'] += 1\n",
    "    print(\"Tick-tock, i'm ticking.\", holder['counter'])\n",
    "pa.add_component(ticker)"
   ]
  },
  {
   "cell_type": "code",
   "execution_count": 5,
   "metadata": {},
   "outputs": [
    {
     "data": {
      "text/plain": [
       "<Task \"ирригатор\""
      ]
     },
     "execution_count": 5,
     "metadata": {},
     "output_type": "execute_result"
    },
    {
     "name": "stdout",
     "output_type": "stream",
     "text": [
      "Tick-tock, i'm ticking. 28\n",
      "Tick-tock, i'm ticking. 29\n",
      "Tick-tock, i'm ticking. 30\n",
      "Tick-tock, i'm ticking. 31\n"
     ]
    }
   ],
   "source": [
    "# pa._assistant_thread.start()\n"
   ]
  },
  {
   "cell_type": "code",
   "execution_count": 5,
   "metadata": {},
   "outputs": [],
   "source": [
    "# plans for simple things\n",
    "\n",
    "# 1) print and save to file (display path) Tree-like structure indented with tabs\n",
    "\n",
    "# 2) Test todoist service ping - create task \"hello\", detect it and add \"world\". Due time and reminder?\n",
    "\n",
    "# ----------------\n",
    "# next simple actions\n",
    "\n",
    "# 1) telegram bot\n",
    "\n",
    "# 2) detect wakeup - send question \"Did you wake up?\" at 6 - no notif? If unanswered - resend at 10? \n",
    "# three scenarios - full, relaxed and \"oh shit\"\n",
    "# 3) detect leave to work\n",
    "# 4) detect return from work!"
   ]
  },
  {
   "cell_type": "code",
   "execution_count": 4,
   "metadata": {},
   "outputs": [],
   "source": [
    "from pyutils import get_token\n",
    "api = TodoistAPI(get_token())"
   ]
  },
  {
   "cell_type": "code",
   "execution_count": 11,
   "metadata": {},
   "outputs": [
    {
     "name": "stdout",
     "output_type": "stream",
     "text": [
      "collaborator_states\n",
      "collaborators\n",
      "day_orders\n",
      "day_orders_timestamp\n",
      "filters\n",
      "items\n",
      "labels\n",
      "live_notifications\n",
      "live_notifications_last_read_id\n",
      "locations\n",
      "notes\n",
      "project_notes\n",
      "projects\n",
      "reminders\n",
      "settings_notifications\n",
      "user\n"
     ]
    }
   ],
   "source": [
    "print('\\n'.join((api.activity.state.keys())))"
   ]
  },
  {
   "cell_type": "code",
   "execution_count": 12,
   "metadata": {},
   "outputs": [
    {
     "data": {
      "text/plain": [
       "['__class__',\n",
       " '__delattr__',\n",
       " '__dict__',\n",
       " '__dir__',\n",
       " '__doc__',\n",
       " '__eq__',\n",
       " '__format__',\n",
       " '__ge__',\n",
       " '__getattribute__',\n",
       " '__gt__',\n",
       " '__hash__',\n",
       " '__init__',\n",
       " '__init_subclass__',\n",
       " '__le__',\n",
       " '__lt__',\n",
       " '__module__',\n",
       " '__ne__',\n",
       " '__new__',\n",
       " '__reduce__',\n",
       " '__reduce_ex__',\n",
       " '__repr__',\n",
       " '__setattr__',\n",
       " '__sizeof__',\n",
       " '__str__',\n",
       " '__subclasshook__',\n",
       " '__weakref__',\n",
       " 'api',\n",
       " 'get',\n",
       " 'object_type',\n",
       " 'queue',\n",
       " 'state',\n",
       " 'state_name',\n",
       " 'token']"
      ]
     },
     "execution_count": 12,
     "metadata": {},
     "output_type": "execute_result"
    }
   ],
   "source": [
    "dir(api.activity)"
   ]
  },
  {
   "cell_type": "code",
   "execution_count": 5,
   "metadata": {},
   "outputs": [],
   "source": [
    "from time import sleep\n",
    "def ticker(cd, flag, count):\n",
    "    it = 0\n",
    "    while flag and it < count:\n",
    "        print(it)\n",
    "        it+=1\n",
    "        sleep(cd)"
   ]
  },
  {
   "cell_type": "code",
   "execution_count": 8,
   "metadata": {},
   "outputs": [],
   "source": [
    "f = True\n",
    "from lib.stack import run_bg\n",
    "# run_bg(ticker, 1, f ,20)\n",
    "import threading\n",
    "# ticker(1, f, 20)"
   ]
  },
  {
   "cell_type": "code",
   "execution_count": null,
   "metadata": {},
   "outputs": [],
   "source": [
    "threading.Thread()"
   ]
  }
 ],
 "metadata": {
  "kernelspec": {
   "display_name": "Python 3",
   "language": "python",
   "name": "python3"
  },
  "language_info": {
   "codemirror_mode": {
    "name": "ipython",
    "version": 3
   },
   "file_extension": ".py",
   "mimetype": "text/x-python",
   "name": "python",
   "nbconvert_exporter": "python",
   "pygments_lexer": "ipython3",
   "version": "3.6.6"
  }
 },
 "nbformat": 4,
 "nbformat_minor": 1
}
