{
 "cells": [
  {
   "cell_type": "code",
   "execution_count": 6,
   "metadata": {
    "collapsed": true
   },
   "outputs": [],
   "source": [
    "# step 1, import todoist api\n",
    "from todoist.api import TodoistAPI\n",
    "import sys, os\n",
    "# os.path.abspath(__file__)\n",
    "# os.getcwd()\n",
    "\n",
    "# ipynb_lib_root = os.getcwd()\n",
    "# print(ipynb_lib_root)\n",
    "# os.path.dirname(os.path.dirname(os.path.abspath(__file__)))\n",
    "mac_lib_path = os.path.expanduser(\"~/work/pa/PersonalAssistant\")\n",
    "\n",
    "win_lib_path = 'C:\\\\Users\\\\Petr\\\\Desktop\\\\HomeAutomation\\\\PersonalAssistant'\n",
    "\n",
    "\n",
    "def is_mac():\n",
    "    val = os.path.join('_','_')\n",
    "    return val == \"_/_\"\n",
    "\n",
    "\n",
    "if is_mac():\n",
    "    if mac_lib_path not in sys.path:\n",
    "        sys.path.append(mac_lib_path)\n",
    "else:\n",
    "    if win_lib_path not in sys.path:\n",
    "        sys.path.append(win_lib_path)\n",
    "        \n",
    "# import pyutils\n",
    "# pyutils.default_token_path\n",
    "# from pyutils import get_token\n",
    "# api = TodoistAPI(get_token())\n",
    "# api.sync()\n",
    "import dateutil\n",
    "import datetime"
   ]
  },
  {
   "cell_type": "code",
   "execution_count": 34,
   "metadata": {
    "collapsed": true
   },
   "outputs": [
    {
     "data": {
      "text/plain": [
       "[Project({'collapsed': 0,\n  'color': 11,\n  'has_more_notes': False,\n  'id': 2183890184,\n  'indent': 1,\n  'is_archived': 0,\n  'is_deleted': 0,\n  'is_favorite': 0,\n  'item_order': 1,\n  'name': 'Behavioral modulators',\n  'parent_id': None,\n  'shared': False}), Project({'collapsed': 0,\n  'color': 7,\n  'has_more_notes': False,\n  'id': 143126184,\n  'inbox_project': True,\n  'indent': 1,\n  'is_archived': 0,\n  'is_deleted': 0,\n  'is_favorite': 0,\n  'item_order': 0,\n  'name': 'Inbox',\n  'parent_id': None,\n  'shared': False}), Project({'collapsed': 0,\n  'color': 11,\n  'has_more_notes': False,\n  'id': 2187894601,\n  'indent': 1,\n  'is_archived': 0,\n  'is_deleted': 0,\n  'is_favorite': 1,\n  'item_order': 2,\n  'name': 'Lookup list',\n  'parent_id': None,\n  'shared': False}), Project({'collapsed': 1,\n  'color': 13,\n  'has_more_notes': False,\n  'id': 2183449683,\n  'indent': 1,\n  'is_archived': 0,\n  'is_deleted': 0,\n  'is_favorite': 0,\n  'item_order': 3,\n  'name': 'Yana',\n  'parent_id': None,\n  'shared': False}), Project({'collapsed': 0,\n  'color': 7,\n  'has_more_notes': False,\n  'id': 2184547520,\n  'indent': 2,\n  'is_archived': 0,\n  'is_deleted': 0,\n  'is_favorite': 0,\n  'item_order': 4,\n  'name': 'Think through for Yana',\n  'parent_id': 2183449683,\n  'shared': False}), Project({'collapsed': 0,\n  'color': 7,\n  'has_more_notes': False,\n  'id': 2184547538,\n  'indent': 2,\n  'is_archived': 0,\n  'is_deleted': 0,\n  'is_favorite': 0,\n  'item_order': 5,\n  'name': 'Talk through with Yana',\n  'parent_id': 2183449683,\n  'shared': False}), Project({'collapsed': 0,\n  'color': 7,\n  'has_more_notes': False,\n  'id': 2184549863,\n  'indent': 3,\n  'is_archived': 0,\n  'is_deleted': 0,\n  'is_favorite': 0,\n  'item_order': 6,\n  'name': 'Conflict Analysis',\n  'parent_id': 2184547538,\n  'shared': False}), Project({'collapsed': 0,\n  'color': 0,\n  'has_more_notes': False,\n  'id': 2175596982,\n  'indent': 1,\n  'is_archived': 0,\n  'is_deleted': 0,\n  'is_favorite': 0,\n  'item_order': 7,\n  'name': 'Todo',\n  'parent_id': None,\n  'shared': False}), Project({'collapsed': 0,\n  'color': 7,\n  'has_more_notes': False,\n  'id': 2191193583,\n  'indent': 2,\n  'is_archived': 0,\n  'is_deleted': 0,\n  'is_favorite': 1,\n  'item_order': 8,\n  'name': 'Todo Today',\n  'parent_id': 2175596982,\n  'shared': False}), Project({'collapsed': 0,\n  'color': 0,\n  'has_more_notes': False,\n  'id': 2184551722,\n  'indent': 2,\n  'is_archived': 0,\n  'is_deleted': 0,\n  'is_favorite': 0,\n  'item_order': 9,\n  'name': 'Some Day Tasks',\n  'parent_id': 2175596982,\n  'shared': False}), Project({'collapsed': 0,\n  'color': 0,\n  'has_more_notes': False,\n  'id': 2188063203,\n  'indent': 2,\n  'is_archived': 0,\n  'is_deleted': 0,\n  'is_favorite': 0,\n  'item_order': 10,\n  'name': 'Todo scheduled',\n  'parent_id': 2175596982,\n  'shared': False}), Project({'collapsed': 0,\n  'color': 0,\n  'has_more_notes': False,\n  'id': 2188064273,\n  'indent': 2,\n  'is_archived': 0,\n  'is_deleted': 0,\n  'is_favorite': 1,\n  'item_order': 11,\n  'name': 'Todo sometime',\n  'parent_id': 2175596982,\n  'shared': False}), Project({'collapsed': 0,\n  'color': 0,\n  'has_more_notes': False,\n  'id': 2188253356,\n  'indent': 2,\n  'is_archived': 0,\n  'is_deleted': 0,\n  'is_favorite': 0,\n  'item_order': 12,\n  'name': 'Todo rework',\n  'parent_id': 2175596982,\n  'shared': False}), Project({'collapsed': 0,\n  'color': 7,\n  'has_more_notes': False,\n  'id': 2185838269,\n  'indent': 1,\n  'is_archived': 0,\n  'is_deleted': 0,\n  'is_favorite': 1,\n  'item_order': 13,\n  'name': 'Priorities',\n  'parent_id': None,\n  'shared': False}), Project({'collapsed': 0,\n  'color': 11,\n  'has_more_notes': False,\n  'id': 2181883411,\n  'indent': 1,\n  'is_archived': 0,\n  'is_deleted': 0,\n  'is_favorite': 1,\n  'item_order': 14,\n  'name': 'Fitness',\n  'parent_id': None,\n  'shared': False}), Project({'collapsed': 1,\n  'color': 15,\n  'has_more_notes': False,\n  'id': 2184549611,\n  'indent': 1,\n  'is_archived': 0,\n  'is_deleted': 0,\n  'is_favorite': 0,\n  'item_order': 15,\n  'name': 'Complex Tasks',\n  'parent_id': None,\n  'shared': False}), Project({'collapsed': 1,\n  'color': 3,\n  'has_more_notes': False,\n  'id': 2175330991,\n  'indent': 2,\n  'is_archived': 0,\n  'is_deleted': 0,\n  'is_favorite': 0,\n  'item_order': 16,\n  'name': 'Job Search',\n  'parent_id': 2184549611,\n  'shared': False}), Project({'collapsed': 0,\n  'color': 3,\n  'has_more_notes': False,\n  'id': 2184549709,\n  'indent': 3,\n  'is_archived': 0,\n  'is_deleted': 0,\n  'is_favorite': 0,\n  'item_order': 17,\n  'name': 'Job Skills',\n  'parent_id': 2175330991,\n  'shared': False}), Project({'collapsed': 1,\n  'color': 7,\n  'has_more_notes': False,\n  'id': 2182879223,\n  'indent': 1,\n  'is_archived': 0,\n  'is_deleted': 0,\n  'is_favorite': 0,\n  'item_order': 18,\n  'name': 'Deprecated_general?',\n  'parent_id': None,\n  'shared': False}), Project({'collapsed': 0,\n  'color': 7,\n  'has_more_notes': False,\n  'id': 2184543439,\n  'indent': 2,\n  'is_archived': 0,\n  'is_deleted': 0,\n  'is_favorite': 0,\n  'item_order': 19,\n  'name': 'Long Box',\n  'parent_id': 2182879223,\n  'shared': False}), Project({'collapsed': 0,\n  'color': 7,\n  'has_more_notes': False,\n  'id': 2175410421,\n  'indent': 1,\n  'is_archived': 0,\n  'is_deleted': 0,\n  'is_favorite': 0,\n  'item_order': 20,\n  'name': 'Routine',\n  'parent_id': None,\n  'shared': False}), Project({'collapsed': 0,\n  'color': 7,\n  'has_more_notes': False,\n  'id': 2175597212,\n  'indent': 2,\n  'is_archived': 0,\n  'is_deleted': 0,\n  'is_favorite': 0,\n  'item_order': 21,\n  'name': 'Cleaning',\n  'parent_id': 2175410421,\n  'shared': False}), Project({'collapsed': 0,\n  'color': 7,\n  'has_more_notes': False,\n  'id': 2175597247,\n  'indent': 2,\n  'is_archived': 0,\n  'is_deleted': 0,\n  'is_favorite': 0,\n  'item_order': 22,\n  'name': 'Supplies',\n  'parent_id': 2175410421,\n  'shared': False}), Project({'collapsed': 0,\n  'color': 7,\n  'has_more_notes': False,\n  'id': 2175597263,\n  'indent': 2,\n  'is_archived': 0,\n  'is_deleted': 0,\n  'is_favorite': 0,\n  'item_order': 23,\n  'name': 'Gaming',\n  'parent_id': 2175410421,\n  'shared': False}), Project({'collapsed': 0,\n  'color': 7,\n  'has_more_notes': False,\n  'id': 2175597269,\n  'indent': 2,\n  'is_archived': 0,\n  'is_deleted': 0,\n  'is_favorite': 0,\n  'item_order': 24,\n  'name': 'Health',\n  'parent_id': 2175410421,\n  'shared': False}), Project({'collapsed': 0,\n  'color': 0,\n  'has_more_notes': False,\n  'id': 2175597492,\n  'indent': 2,\n  'is_archived': 0,\n  'is_deleted': 0,\n  'is_favorite': 0,\n  'item_order': 25,\n  'name': 'Medical treatment',\n  'parent_id': 2175410421,\n  'shared': False}), Project({'collapsed': 0,\n  'color': 3,\n  'has_more_notes': False,\n  'id': 2176120833,\n  'indent': 2,\n  'is_archived': 0,\n  'is_deleted': 0,\n  'is_favorite': 0,\n  'item_order': 26,\n  'name': 'Behavior',\n  'parent_id': 2175410421,\n  'shared': False}), Project({'collapsed': 0,\n  'color': 10,\n  'has_more_notes': False,\n  'id': 2176293650,\n  'indent': 2,\n  'is_archived': 0,\n  'is_deleted': 0,\n  'is_favorite': 0,\n  'item_order': 27,\n  'name': 'Hygiene',\n  'parent_id': 2175410421,\n  'shared': False}), Project({'collapsed': 0,\n  'color': 7,\n  'has_more_notes': False,\n  'id': 2182654418,\n  'indent': 2,\n  'is_archived': 0,\n  'is_deleted': 0,\n  'is_favorite': 0,\n  'item_order': 28,\n  'name': 'Deprecated?',\n  'parent_id': 2175410421,\n  'shared': False}), Project({'collapsed': 0,\n  'color': 6,\n  'has_more_notes': False,\n  'id': 2184175350,\n  'indent': 2,\n  'is_archived': 0,\n  'is_deleted': 0,\n  'is_favorite': 0,\n  'item_order': 29,\n  'name': 'Skills',\n  'parent_id': 2175410421,\n  'shared': False}), Project({'collapsed': 0,\n  'color': 6,\n  'has_more_notes': False,\n  'id': 2184445327,\n  'indent': 2,\n  'is_archived': 0,\n  'is_deleted': 0,\n  'is_favorite': 0,\n  'item_order': 30,\n  'name': 'Life',\n  'parent_id': 2175410421,\n  'shared': False}), Project({'collapsed': 0,\n  'color': 11,\n  'has_more_notes': False,\n  'id': 2184549406,\n  'indent': 1,\n  'is_archived': 0,\n  'is_deleted': 0,\n  'is_favorite': 0,\n  'item_order': 31,\n  'name': 'Info',\n  'parent_id': None,\n  'shared': False}), Project({'collapsed': 0,\n  'color': 3,\n  'has_more_notes': False,\n  'id': 2177810723,\n  'indent': 2,\n  'is_archived': 0,\n  'is_deleted': 0,\n  'is_favorite': 0,\n  'item_order': 32,\n  'name': 'Ideas',\n  'parent_id': 2184549406,\n  'shared': False}), Project({'collapsed': 0,\n  'color': 7,\n  'has_more_notes': False,\n  'id': 2184553382,\n  'indent': 2,\n  'is_archived': 0,\n  'is_deleted': 0,\n  'is_favorite': 0,\n  'item_order': 33,\n  'name': 'Revisit in some time (Long term)',\n  'parent_id': 2184549406,\n  'shared': False}), Project({'collapsed': 0,\n  'color': 4,\n  'has_more_notes': False,\n  'id': 2182284732,\n  'indent': 2,\n  'is_archived': 0,\n  'is_deleted': 0,\n  'is_favorite': 0,\n  'item_order': 34,\n  'name': 'Places to visit in Moscow',\n  'parent_id': 2184549406,\n  'shared': False}), Project({'collapsed': 0,\n  'color': 7,\n  'has_more_notes': False,\n  'id': 2183777063,\n  'indent': 2,\n  'is_archived': 0,\n  'is_deleted': 0,\n  'is_favorite': 0,\n  'item_order': 35,\n  'name': 'To check out',\n  'parent_id': 2184549406,\n  'shared': False}), Project({'collapsed': 0,\n  'color': 16,\n  'has_more_notes': False,\n  'id': 2183772973,\n  'indent': 3,\n  'is_archived': 0,\n  'is_deleted': 0,\n  'is_favorite': 0,\n  'item_order': 36,\n  'name': 'Coworkings/cafes',\n  'parent_id': 2183777063,\n  'shared': False}), Project({'collapsed': 0,\n  'color': 7,\n  'has_more_notes': False,\n  'id': 2183777088,\n  'indent': 3,\n  'is_archived': 0,\n  'is_deleted': 0,\n  'is_favorite': 0,\n  'item_order': 37,\n  'name': 'Books',\n  'parent_id': 2183777063,\n  'shared': False}), Project({'collapsed': 0,\n  'color': 7,\n  'has_more_notes': False,\n  'id': 2183777107,\n  'indent': 3,\n  'is_archived': 0,\n  'is_deleted': 0,\n  'is_favorite': 0,\n  'item_order': 38,\n  'name': 'Movies',\n  'parent_id': 2183777063,\n  'shared': False}), Project({'collapsed': 0,\n  'color': 7,\n  'has_more_notes': False,\n  'id': 2183777124,\n  'indent': 3,\n  'is_archived': 0,\n  'is_deleted': 0,\n  'is_favorite': 0,\n  'item_order': 39,\n  'name': 'Series',\n  'parent_id': 2183777063,\n  'shared': False}), Project({'collapsed': 0,\n  'color': 7,\n  'has_more_notes': False,\n  'id': 2183882169,\n  'indent': 3,\n  'is_archived': 0,\n  'is_deleted': 0,\n  'is_favorite': 0,\n  'item_order': 40,\n  'name': 'Food stores',\n  'parent_id': 2183777063,\n  'shared': False}), Project({'collapsed': 1,\n  'color': 11,\n  'has_more_notes': False,\n  'id': 2184549373,\n  'indent': 1,\n  'is_archived': 0,\n  'is_deleted': 0,\n  'is_favorite': 0,\n  'item_order': 41,\n  'name': 'Other',\n  'parent_id': None,\n  'shared': False}), Project({'collapsed': 0,\n  'color': 7,\n  'has_more_notes': False,\n  'id': 143126188,\n  'indent': 2,\n  'is_archived': 0,\n  'is_deleted': 0,\n  'is_favorite': 0,\n  'item_order': 42,\n  'name': 'Shopping',\n  'parent_id': 2184549373,\n  'shared': False}), Project({'collapsed': 1,\n  'color': 16,\n  'has_more_notes': False,\n  'id': 153748556,\n  'indent': 2,\n  'is_archived': 0,\n  'is_deleted': 0,\n  'is_favorite': 0,\n  'item_order': 43,\n  'name': 'Purgatory',\n  'parent_id': 2184549373,\n  'shared': False}), Project({'collapsed': 0,\n  'color': 21,\n  'has_more_notes': False,\n  'id': 2184548782,\n  'indent': 2,\n  'is_archived': 0,\n  'is_deleted': 0,\n  'is_favorite': 0,\n  'item_order': 44,\n  'name': 'Stash',\n  'parent_id': 2184549373,\n  'shared': False}), Project({'collapsed': 0,\n  'color': 21,\n  'has_more_notes': False,\n  'id': 2184551873,\n  'indent': 3,\n  'is_archived': 0,\n  'is_deleted': 0,\n  'is_favorite': 0,\n  'item_order': 45,\n  'name': 'Merging',\n  'parent_id': 2184548782,\n  'shared': False}), Project({'collapsed': 0,\n  'color': 7,\n  'has_more_notes': False,\n  'id': 2187553972,\n  'indent': 4,\n  'is_archived': 0,\n  'is_deleted': 0,\n  'is_favorite': 0,\n  'item_order': 46,\n  'name': 'Rework',\n  'parent_id': 2184551873,\n  'shared': False}), Project({'collapsed': 0,\n  'color': 7,\n  'has_more_notes': False,\n  'id': 2184550840,\n  'indent': 3,\n  'is_archived': 0,\n  'is_deleted': 0,\n  'is_favorite': 0,\n  'item_order': 47,\n  'name': 'Health',\n  'parent_id': 2184548782,\n  'shared': False}), Project({'collapsed': 0,\n  'color': 7,\n  'has_more_notes': False,\n  'id': 2184550844,\n  'indent': 2,\n  'is_archived': 0,\n  'is_deleted': 0,\n  'is_favorite': 0,\n  'item_order': 48,\n  'name': 'Relationship',\n  'parent_id': 2184549373,\n  'shared': False}), Project({'collapsed': 0,\n  'color': 21,\n  'has_more_notes': False,\n  'id': 2184550870,\n  'indent': 3,\n  'is_archived': 0,\n  'is_deleted': 0,\n  'is_favorite': 0,\n  'item_order': 49,\n  'name': 'Todoist Structurization',\n  'parent_id': 2184550844,\n  'shared': False}), Project({'collapsed': 0,\n  'color': 19,\n  'has_more_notes': False,\n  'id': 2188082048,\n  'indent': 1,\n  'is_archived': 0,\n  'is_deleted': 0,\n  'is_favorite': 0,\n  'item_order': 50,\n  'name': 'Organization',\n  'parent_id': None,\n  'shared': False}), Project({'collapsed': 0,\n  'color': 6,\n  'has_more_notes': False,\n  'id': 2188738680,\n  'indent': 1,\n  'is_archived': 0,\n  'is_deleted': 0,\n  'is_favorite': 0,\n  'item_order': 51,\n  'name': 'Events and meetings',\n  'parent_id': None,\n  'shared': False}), Project({'collapsed': 0,\n  'color': 21,\n  'has_more_notes': False,\n  'id': 2201412629,\n  'indent': 1,\n  'is_archived': 0,\n  'is_deleted': 0,\n  'is_favorite': 0,\n  'item_order': 52,\n  'name': 'personal assistant',\n  'parent_id': 2183890184,\n  'shared': False})]"
      ]
     },
     "execution_count": 34,
     "metadata": {},
     "output_type": "execute_result"
    }
   ],
   "source": [
    "api.projects.all()"
   ]
  },
  {
   "cell_type": "code",
   "execution_count": 19,
   "metadata": {},
   "outputs": [
    {
     "data": {
      "text/plain": [
       "'/Users/plavrov/work/pa/PersonalAssistant/resources/todoist.token'"
      ]
     },
     "execution_count": 19,
     "metadata": {},
     "output_type": "execute_result"
    }
   ],
   "source": [
    ""
   ]
  },
  {
   "cell_type": "code",
   "execution_count": 18,
   "metadata": {
    "collapsed": true
   },
   "outputs": [
    {
     "data": {
      "text/plain": [
       "{'error_tag': 'AUTH_INVALID_TOKEN',\n 'error_code': 401,\n 'http_code': 403,\n 'error_extra': {'retry_after': 3, 'access_type': 'access_token'},\n 'error': 'Invalid token'}"
      ]
     },
     "execution_count": 18,
     "metadata": {},
     "output_type": "execute_result"
    }
   ],
   "source": [
    "api.sync()"
   ]
  },
  {
   "cell_type": "code",
   "execution_count": 17,
   "metadata": {},
   "outputs": [
    {
     "data": {
      "text/plain": [
       "16"
      ]
     },
     "execution_count": 17,
     "metadata": {},
     "output_type": "execute_result"
    }
   ],
   "source": [
    "len(api.state)"
   ]
  },
  {
   "cell_type": "code",
   "execution_count": 18,
   "metadata": {},
   "outputs": [
    {
     "data": {
      "text/plain": [
       "['collaborators',\n 'day_orders_timestamp',\n 'live_notifications_last_read_id',\n 'items',\n 'collaborator_states',\n 'labels',\n 'reminders',\n 'locations',\n 'settings_notifications',\n 'project_notes',\n 'user',\n 'filters',\n 'day_orders',\n 'live_notifications',\n 'notes',\n 'projects']"
      ]
     },
     "execution_count": 18,
     "metadata": {},
     "output_type": "execute_result"
    }
   ],
   "source": [
    "api.state.keys()"
   ]
  },
  {
   "cell_type": "code",
   "execution_count": 20,
   "metadata": {},
   "outputs": [
    {
     "data": {
      "text/plain": [
       "52"
      ]
     },
     "execution_count": 20,
     "metadata": {},
     "output_type": "execute_result"
    }
   ],
   "source": [
    "len(api.state['projects'])"
   ]
  },
  {
   "cell_type": "code",
   "execution_count": 10,
   "metadata": {},
   "outputs": [
    {
     "name": "stdout",
     "output_type": "stream",
     "text": [
      "Help on ActivityManager in module todoist.managers.activity object:\n\nclass ActivityManager(todoist.managers.generic.Manager)\n |  Method resolution order:\n |      ActivityManager\n |      todoist.managers.generic.Manager\n |      __builtin__.object\n |  \n |  Methods defined here:\n |  \n |  get(self, **kwargs)\n |      Get events from the activity log.\n |  \n |  ----------------------------------------------------------------------\n |  Methods inherited from todoist.managers.generic.Manager:\n |  \n |  __init__(self, api)\n |  \n |  ----------------------------------------------------------------------\n |  Data descriptors inherited from todoist.managers.generic.Manager:\n |  \n |  __dict__\n |      dictionary for instance variables (if defined)\n |  \n |  __weakref__\n |      list of weak references to the object (if defined)\n |  \n |  queue\n |  \n |  state\n |  \n |  token\n |  \n |  ----------------------------------------------------------------------\n |  Data and other attributes inherited from todoist.managers.generic.Manager:\n |  \n |  object_type = None\n |  \n |  state_name = None\n\n"
     ]
    }
   ],
   "source": [
    "help(api.activity)"
   ]
  },
  {
   "cell_type": "code",
   "execution_count": 11,
   "metadata": {
    "collapsed": true
   },
   "outputs": [
    {
     "data": {
      "text/plain": [
       "[{u'event_date': u'Wed 03 Oct 2018 04:54:36 +0000',\n  u'event_type': u'added',\n  u'extra_data': {u'client': u'Todoist-iOS/11.10',\n   u'content': u'Sapient. \\u0418\\u0441\\u0442\\u043e\\u0440\\u0438\\u044f \\u0447\\u0435\\u043b\\u043e\\u0432\\u0435\\u0447\\u0435\\u0441\\u043a\\u043e\\u0439 \\u0446\\u0438\\u0432\\u0438\\u043b\\u0438\\u0437\\u0430\\u0446\\u0438\\u0438'},\n  u'id': 4822704878L,\n  u'initiator_id': None,\n  u'object_id': 2841580232L,\n  u'object_type': u'item',\n  u'parent_item_id': None,\n  u'parent_project_id': 2183777088L},\n {u'event_date': u'Wed 26 Sep 2018 11:20:48 +0000',\n  u'event_type': u'added',\n  u'extra_data': {u'client': u'Todoist-iOS/11.10', u'content': u'Free'},\n  u'id': 4782201406L,\n  u'initiator_id': None,\n  u'object_id': 2831545817L,\n  u'object_type': u'item',\n  u'parent_item_id': None,\n  u'parent_project_id': 2183777088L},\n {u'event_date': u'Wed 26 Sep 2018 11:12:39 +0000',\n  u'event_type': u'added',\n  u'extra_data': {u'client': u'Todoist-iOS/11.10',\n   u'content': u'\\u041f\\u0438\\u0442\\u0435\\u0440 \\u0423\\u043e\\u0442\\u0442\\u0441 \\u041b\\u043e\\u0436\\u043d\\u0430\\u044f \\u0441\\u043b\\u0435\\u043f\\u043e\\u0442\\u0430.'},\n  u'id': 4782158972L,\n  u'initiator_id': None,\n  u'object_id': 2831535045L,\n  u'object_type': u'item',\n  u'parent_item_id': None,\n  u'parent_project_id': 2183777088L},\n {u'event_date': u'Wed 12 Sep 2018 06:00:40 +0000',\n  u'event_type': u'added',\n  u'extra_data': {u'client': u'Todoist-iOS/11.8.3', u'content': u'09:00'},\n  u'id': 4700683670L,\n  u'initiator_id': None,\n  u'object_id': 2323275736L,\n  u'object_type': u'note',\n  u'parent_item_id': 2697952472L,\n  u'parent_project_id': 2175410421L},\n {u'event_date': u'Tue 11 Sep 2018 12:34:20 +0000',\n  u'event_type': u'added',\n  u'extra_data': {u'client': u'Todoist-iOS/11.8.3',\n   u'content': u'\\u041f\\u0430\\u0440\\u043a \\u0441\\u0435\\u0432\\u0435\\u0440\\u043d\\u043e\\u0435 \\u0422\\u0443\\u0448\\u0438\\u043d\\u043e'},\n  u'id': 4695927344L,\n  u'initiator_id': None,\n  u'object_id': 2809391663L,\n  u'object_type': u'item',\n  u'parent_item_id': None,\n  u'parent_project_id': 2182284732L},\n {u'event_date': u'Tue 11 Sep 2018 06:00:26 +0000',\n  u'event_type': u'completed',\n  u'extra_data': {u'client': u'Todoist-iOS/11.8.2',\n   u'content': u'Write down time of arrival at work'},\n  u'id': 4694024040L,\n  u'initiator_id': None,\n  u'object_id': 2697952472L,\n  u'object_type': u'item',\n  u'parent_item_id': None,\n  u'parent_project_id': 2175410421L},\n {u'event_date': u'Tue 11 Sep 2018 06:00:22 +0000',\n  u'event_type': u'added',\n  u'extra_data': {u'client': u'Todoist-iOS/11.8.2', u'content': u'08:53'},\n  u'id': 4694023859L,\n  u'initiator_id': None,\n  u'object_id': 2322713823L,\n  u'object_type': u'note',\n  u'parent_item_id': 2697952472L,\n  u'parent_project_id': 2175410421L},\n {u'event_date': u'Mon 10 Sep 2018 14:24:19 +0000',\n  u'event_type': u'added',\n  u'extra_data': {u'client': u'Todoist-iOS/11.8.2',\n   u'content': u'\\u041a\\u043e\\u043e\\u043f\\u0435\\u0440\\u0430\\u0442\\u0438\\u0432 \\xab\\u0447\\u0451\\u0440\\u043d\\u044b\\u0439\\xbb \\u043a\\u0430\\u043f\\u043f\\u0438\\u043d\\u0433 \\u043f\\u043e \\u0432\\u043e\\u0441\\u043a\\u0440\\u0435\\u0441\\u0435\\u043d\\u044c\\u044f\\u043c \\u0432 11:00'},\n  u'id': 4689773734L,\n  u'initiator_id': None,\n  u'object_id': 2807749422L,\n  u'object_type': u'item',\n  u'parent_item_id': None,\n  u'parent_project_id': 2182284732L},\n {u'event_date': u'Thu 30 Aug 2018 20:20:24 +0000',\n  u'event_type': u'added',\n  u'extra_data': {u'client': u'Todoist-iOS/11.8.2', u'content': u'3.5/5'},\n  u'id': 4634882178L,\n  u'initiator_id': None,\n  u'object_id': 2318270534L,\n  u'object_type': u'note',\n  u'parent_item_id': 2696928726L,\n  u'parent_project_id': 2175410421L},\n {u'event_date': u'Wed 29 Aug 2018 15:50:22 +0000',\n  u'event_type': u'completed',\n  u'extra_data': {u'client': u'Todoist-iOS/11.8.2',\n   u'content': u'Fix my shoes (get them from dryharder)'},\n  u'id': 4627558532L,\n  u'initiator_id': None,\n  u'object_id': 2718998589L,\n  u'object_type': u'item',\n  u'parent_item_id': None,\n  u'parent_project_id': 143126184},\n {u'event_date': u'Wed 29 Aug 2018 09:35:36 +0000',\n  u'event_type': u'updated',\n  u'extra_data': {u'client': u'Todoist-iOS/11.8.2',\n   u'content': u'\\u041f\\u0440\\u043e\\u0432\\u0435\\u0440\\u0438\\u0442\\u044c \\u0441\\u043e\\u0441\\u0442\\u043e\\u044f\\u043d\\u0438\\u0435 \\u0434\\u0435\\u043b \\u0441 \\u0410\\u0440\\u0442\\u0435\\u043c\\u043e\\u043c.',\n   u'due_date': u'Thu 27 Sep 2018 18:20:00 +0000',\n   u'last_due_date': u'Tue 28 Aug 2018 18:20:00 +0000'},\n  u'id': 4625427395L,\n  u'initiator_id': None,\n  u'object_id': 2486885880L,\n  u'object_type': u'item',\n  u'parent_item_id': None,\n  u'parent_project_id': 2188063203L},\n {u'event_date': u'Wed 29 Aug 2018 09:27:34 +0000',\n  u'event_type': u'completed',\n  u'extra_data': {u'client': u'Todoist-iOS/11.8.2',\n   u'content': u'Exit checklist. Write down time'},\n  u'id': 4625391164L,\n  u'initiator_id': None,\n  u'object_id': 2694368192L,\n  u'object_type': u'item',\n  u'parent_item_id': None,\n  u'parent_project_id': 2187894601L},\n {u'event_date': u'Wed 29 Aug 2018 09:27:29 +0000',\n  u'event_type': u'added',\n  u'extra_data': {u'client': u'Todoist-iOS/11.8.2',\n   u'content': u'12:27 (went to Starbucks, had lunch)'},\n  u'id': 4625390839L,\n  u'initiator_id': None,\n  u'object_id': 2317335191L,\n  u'object_type': u'note',\n  u'parent_item_id': 2694368192L,\n  u'parent_project_id': 2187894601L},\n {u'event_date': u'Tue 28 Aug 2018 18:02:11 +0000',\n  u'event_type': u'added',\n  u'extra_data': {u'client': u'Todoist-iOS/11.8.2', u'content': u'4.5/5'},\n  u'id': 4622000624L,\n  u'initiator_id': None,\n  u'object_id': 2317067427L,\n  u'object_type': u'note',\n  u'parent_item_id': 2696928726L,\n  u'parent_project_id': 2175410421L},\n {u'event_date': u'Tue 28 Aug 2018 17:49:31 +0000',\n  u'event_type': u'updated',\n  u'extra_data': {u'client': u'Todoist-iOS/11.8.2',\n   u'content': u'Haircut from Yana (Think what I actually want from my hair. For that I actually need starting paying attention to it)',\n   u'due_date': None,\n   u'last_due_date': u'Tue 28 Aug 2018 17:42:00 +0000'},\n  u'id': 4621935579L,\n  u'initiator_id': None,\n  u'object_id': 2690718858L,\n  u'object_type': u'item',\n  u'parent_item_id': None,\n  u'parent_project_id': 2182879223L},\n {u'event_date': u'Tue 28 Aug 2018 07:02:27 +0000',\n  u'event_type': u'updated',\n  u'extra_data': {u'client': u'Mozilla/5.0; Todoist/913',\n   u'content': u'change water filter',\n   u'due_date': u'Wed 28 Nov 2018 20:59:59 +0000',\n   u'last_due_date': u'Mon 27 Aug 2018 20:59:59 +0000'},\n  u'id': 4618363862L,\n  u'initiator_id': None,\n  u'object_id': 2485382846L,\n  u'object_type': u'item',\n  u'parent_item_id': None,\n  u'parent_project_id': 2175597212L},\n {u'event_date': u'Tue 28 Aug 2018 07:02:27 +0000',\n  u'event_type': u'updated',\n  u'extra_data': {u'client': u'Mozilla/5.0; Todoist/913',\n   u'content': u'Meet Dmitry Fedotov',\n   u'due_date': u'Wed 29 Aug 2018 20:59:59 +0000',\n   u'last_due_date': u'Mon 27 Aug 2018 20:59:59 +0000'},\n  u'id': 4618363861L,\n  u'initiator_id': None,\n  u'object_id': 2660385678L,\n  u'object_type': u'item',\n  u'parent_item_id': None,\n  u'parent_project_id': 2185838269L},\n {u'event_date': u'Tue 28 Aug 2018 07:02:27 +0000',\n  u'event_type': u'updated',\n  u'extra_data': {u'client': u'Mozilla/5.0; Todoist/913',\n   u'content': u'Try balance board in Mamontov? With Vanya',\n   u'due_date': u'Tue 28 Aug 2018 14:15:00 +0000',\n   u'last_due_date': u'Mon 27 Aug 2018 14:15:00 +0000'},\n  u'id': 4618363854L,\n  u'initiator_id': None,\n  u'object_id': 2750318971L,\n  u'object_type': u'item',\n  u'parent_item_id': None,\n  u'parent_project_id': 2188064273L},\n {u'event_date': u'Tue 28 Aug 2018 07:02:27 +0000',\n  u'event_type': u'updated',\n  u'extra_data': {u'client': u'Mozilla/5.0; Todoist/913',\n   u'content': u'Remeber to go out for walks with doggos',\n   u'due_date': u'Fri 31 Aug 2018 06:30:00 +0000',\n   u'last_due_date': u'Mon 27 Aug 2018 06:30:00 +0000'},\n  u'id': 4618363822L,\n  u'initiator_id': None,\n  u'object_id': 2728459583L,\n  u'object_type': u'item',\n  u'parent_item_id': None,\n  u'parent_project_id': 2188063203L},\n {u'event_date': u'Tue 28 Aug 2018 07:02:27 +0000',\n  u'event_type': u'updated',\n  u'extra_data': {u'client': u'Mozilla/5.0; Todoist/913',\n   u'content': u'buy coffee beans',\n   u'due_date': u'Wed 05 Sep 2018 20:59:59 +0000',\n   u'last_due_date': u'Sun 26 Aug 2018 20:59:59 +0000'},\n  u'id': 4618363818L,\n  u'initiator_id': None,\n  u'object_id': 2519912146L,\n  u'object_type': u'item',\n  u'parent_item_id': None,\n  u'parent_project_id': 2175597247L},\n {u'event_date': u'Tue 28 Aug 2018 07:02:27 +0000',\n  u'event_type': u'updated',\n  u'extra_data': {u'client': u'Mozilla/5.0; Todoist/913',\n   u'content': u'buy condoms',\n   u'due_date': u'Sat 01 Sep 2018 20:59:59 +0000',\n   u'last_due_date': u'Sun 26 Aug 2018 20:59:59 +0000'},\n  u'id': 4618363816L,\n  u'initiator_id': None,\n  u'object_id': 2624273498L,\n  u'object_type': u'item',\n  u'parent_item_id': None,\n  u'parent_project_id': 2175597247L},\n {u'event_date': u'Tue 28 Aug 2018 07:02:27 +0000',\n  u'event_type': u'updated',\n  u'extra_data': {u'client': u'Mozilla/5.0; Todoist/913',\n   u'content': u'buy/cook some fancy food',\n   u'due_date': u'Tue 11 Sep 2018 20:59:59 +0000',\n   u'last_due_date': u'Sun 26 Aug 2018 20:59:59 +0000'},\n  u'id': 4618363809L,\n  u'initiator_id': None,\n  u'object_id': 2632110481L,\n  u'object_type': u'item',\n  u'parent_item_id': None,\n  u'parent_project_id': 2175597247L},\n {u'event_date': u'Tue 28 Aug 2018 07:02:26 +0000',\n  u'event_type': u'updated',\n  u'extra_data': {u'client': u'Mozilla/5.0; Todoist/913',\n   u'content': u'buy shaving gel',\n   u'due_date': u'Sat 01 Sep 2018 20:59:59 +0000',\n   u'last_due_date': u'Sun 26 Aug 2018 20:59:59 +0000'},\n  u'id': 4618363807L,\n  u'initiator_id': None,\n  u'object_id': 2508137518L,\n  u'object_type': u'item',\n  u'parent_item_id': None,\n  u'parent_project_id': 2175597247L},\n {u'event_date': u'Tue 28 Aug 2018 07:02:26 +0000',\n  u'event_type': u'updated',\n  u'extra_data': {u'client': u'Mozilla/5.0; Todoist/913',\n   u'content': u'Lunch',\n   u'due_date': u'Sat 01 Sep 2018 10:00:00 +0000',\n   u'last_due_date': u'Sun 26 Aug 2018 10:00:00 +0000'},\n  u'id': 4618363805L,\n  u'initiator_id': None,\n  u'object_id': 2486744392L,\n  u'object_type': u'item',\n  u'parent_item_id': None,\n  u'parent_project_id': 2175410421L},\n {u'event_date': u'Tue 28 Aug 2018 07:02:26 +0000',\n  u'event_type': u'updated',\n  u'extra_data': {u'client': u'Mozilla/5.0; Todoist/913',\n   u'content': u'drinking alcohol monItor',\n   u'due_date': u'Sat 01 Sep 2018 20:59:00 +0000',\n   u'last_due_date': u'Sun 26 Aug 2018 20:59:00 +0000'},\n  u'id': 4618363804L,\n  u'initiator_id': None,\n  u'object_id': 2625881400L,\n  u'object_type': u'item',\n  u'parent_item_id': None,\n  u'parent_project_id': 2176120833L},\n {u'event_date': u'Tue 28 Aug 2018 07:02:26 +0000',\n  u'event_type': u'updated',\n  u'extra_data': {u'client': u'Mozilla/5.0; Todoist/913',\n   u'content': u'Buy mouthwash',\n   u'due_date': u'Sat 01 Sep 2018 20:59:59 +0000',\n   u'last_due_date': u'Sun 26 Aug 2018 20:59:59 +0000'},\n  u'id': 4618363798L,\n  u'initiator_id': None,\n  u'object_id': 2488155128L,\n  u'object_type': u'item',\n  u'parent_item_id': None,\n  u'parent_project_id': 2175597247L},\n {u'event_date': u'Tue 28 Aug 2018 07:02:26 +0000',\n  u'event_type': u'updated',\n  u'extra_data': {u'client': u'Mozilla/5.0; Todoist/913',\n   u'content': u'Pluck eyebrows',\n   u'due_date': u'Tue 11 Sep 2018 06:34:00 +0000',\n   u'last_due_date': u'Sun 26 Aug 2018 06:34:00 +0000'},\n  u'id': 4618363791L,\n  u'initiator_id': None,\n  u'object_id': 2489285551L,\n  u'object_type': u'item',\n  u'parent_item_id': None,\n  u'parent_project_id': 2176293650L},\n {u'event_date': u'Tue 28 Aug 2018 07:02:26 +0000',\n  u'event_type': u'updated',\n  u'extra_data': {u'client': u'Mozilla/5.0; Todoist/913',\n   u'content': u'Pick hair from nose',\n   u'due_date': u'Tue 11 Sep 2018 06:24:00 +0000',\n   u'last_due_date': u'Sun 26 Aug 2018 06:24:00 +0000'},\n  u'id': 4618363789L,\n  u'initiator_id': None,\n  u'object_id': 2489285670L,\n  u'object_type': u'item',\n  u'parent_item_id': None,\n  u'parent_project_id': 2176293650L},\n {u'event_date': u'Tue 28 Aug 2018 07:02:26 +0000',\n  u'event_type': u'updated',\n  u'extra_data': {u'client': u'Mozilla/5.0; Todoist/913',\n   u'content': u'Breakfast',\n   u'due_date': u'Sun 02 Sep 2018 06:30:00 +0000',\n   u'last_due_date': u'Sun 26 Aug 2018 06:30:00 +0000'},\n  u'id': 4618363787L,\n  u'initiator_id': None,\n  u'object_id': 2486744305L,\n  u'object_type': u'item',\n  u'parent_item_id': None,\n  u'parent_project_id': 2175410421L},\n {u'event_date': u'Tue 28 Aug 2018 07:02:26 +0000',\n  u'event_type': u'updated',\n  u'extra_data': {u'client': u'Mozilla/5.0; Todoist/913',\n   u'content': u'Clean and sort out working table',\n   u'due_date': u'Wed 29 Aug 2018 20:59:59 +0000',\n   u'last_due_date': u'Sat 25 Aug 2018 20:59:59 +0000'},\n  u'id': 4618363777L,\n  u'initiator_id': None,\n  u'object_id': 2485638485L,\n  u'object_type': u'item',\n  u'parent_item_id': None,\n  u'parent_project_id': 2175597212L}]"
      ]
     },
     "execution_count": 11,
     "metadata": {},
     "output_type": "execute_result"
    }
   ],
   "source": [
    ""
   ]
  },
  {
   "cell_type": "code",
   "execution_count": 18,
   "metadata": {
    "collapsed": true
   },
   "outputs": [
    {
     "data": {
      "text/plain": [
       "Item({u'all_day': False,\n u'assigned_by_uid': 4405058,\n u'checked': 0,\n u'collapsed': 0,\n u'content': u'\\u0438\\u0440\\u0440\\u0438\\u0433\\u0430\\u0442\\u043e\\u0440',\n u'date_added': u'Fri 12 Jun 2015 17:21:12 +0000',\n u'date_completed': None,\n u'date_lang': None,\n u'date_string': None,\n u'day_order': -1,\n u'due_date_utc': None,\n u'has_more_notes': False,\n u'id': 7104735,\n u'in_history': 0,\n u'indent': 1,\n u'is_archived': 0,\n u'is_deleted': 0,\n u'item_order': 1,\n u'labels': [2149331073L],\n u'parent_id': None,\n u'priority': 2,\n u'project_id': 143126188,\n u'responsible_uid': None,\n u'sync_id': None,\n u'user_id': 4405058})"
      ]
     },
     "execution_count": 18,
     "metadata": {},
     "output_type": "execute_result"
    }
   ],
   "source": [
    "api.items.all()[0]"
   ]
  },
  {
   "cell_type": "code",
   "execution_count": 17,
   "metadata": {},
   "outputs": [
    {
     "name": "stdout",
     "output_type": "stream",
     "text": [
      "ирригатор\n"
     ]
    }
   ],
   "source": [
    "print(u'\\u0438\\u0440\\u0440\\u0438\\u0433\\u0430\\u0442\\u043e\\u0440')"
   ]
  },
  {
   "cell_type": "code",
   "execution_count": 24,
   "metadata": {},
   "outputs": [
    {
     "data": {
      "text/plain": [
       "todoist.models.Project"
      ]
     },
     "execution_count": 24,
     "metadata": {},
     "output_type": "execute_result"
    }
   ],
   "source": [
    "type(api.state['projects'][10])"
   ]
  },
  {
   "cell_type": "code",
   "execution_count": 25,
   "metadata": {},
   "outputs": [
    {
     "ename": "SyntaxError",
     "evalue": "invalid syntax (<ipython-input-25-bf9336393a87>, line 5)",
     "traceback": [
      "\u001b[1;36m  File \u001b[1;32m\"<ipython-input-25-bf9336393a87>\"\u001b[1;36m, line \u001b[1;32m5\u001b[0m\n\u001b[1;33m    self._name =\u001b[0m\n\u001b[1;37m                 ^\u001b[0m\n\u001b[1;31mSyntaxError\u001b[0m\u001b[1;31m:\u001b[0m invalid syntax\n"
     ],
     "output_type": "error"
    }
   ],
   "source": [
    "\n",
    "    "
   ]
  },
  {
   "cell_type": "code",
   "execution_count": 26,
   "metadata": {},
   "outputs": [],
   "source": [
    "# import pandas as pd"
   ]
  },
  {
   "cell_type": "code",
   "execution_count": 27,
   "metadata": {},
   "outputs": [],
   "source": [
    "# pd.DataFrame.from_csv()\n"
   ]
  },
  {
   "cell_type": "code",
   "execution_count": 100,
   "metadata": {},
   "outputs": [
    {
     "ename": "AttributeError",
     "evalue": "'Project' object has no attribute 'state'",
     "traceback": [
      "\u001b[0;31m---------------------------------------------------------------------------\u001b[0m",
      "\u001b[0;31mAttributeError\u001b[0m                            Traceback (most recent call last)",
      "\u001b[0;32m<ipython-input-100-7dad3a04202a>\u001b[0m in \u001b[0;36m<module>\u001b[0;34m()\u001b[0m\n\u001b[1;32m      1\u001b[0m \u001b[0;31m# so what i'm trying to do now:\u001b[0m\u001b[0;34m\u001b[0m\u001b[0;34m\u001b[0m\u001b[0m\n\u001b[0;32m----> 2\u001b[0;31m \u001b[0mp\u001b[0m\u001b[0;34m.\u001b[0m\u001b[0mstate\u001b[0m\u001b[0;34m\u001b[0m\u001b[0m\n\u001b[0m",
      "\u001b[0;31mAttributeError\u001b[0m: 'Project' object has no attribute 'state'"
     ],
     "output_type": "error"
    }
   ],
   "source": [
    "# so what i'm trying to do now:\n",
    "p"
   ]
  },
  {
   "cell_type": "code",
   "execution_count": 37,
   "metadata": {},
   "outputs": [],
   "source": [
    "rules = []\n",
    "def process_task(task):\n",
    "    for rule in rules:\n",
    "        if rule.is_eligible(task):\n",
    "            pass"
   ]
  },
  {
   "cell_type": "code",
   "execution_count": 93,
   "metadata": {
    "collapsed": true
   },
   "outputs": [
    {
     "data": {
      "text/plain": [
       "{'day_order': -1,\n 'assigned_by_uid': 4405058,\n 'is_archived': 0,\n 'labels': [2149331073],\n 'sync_id': None,\n 'all_day': False,\n 'in_history': 0,\n 'date_added': 'Fri 12 Jun 2015 17:21:12 +0000',\n 'indent': 1,\n 'date_lang': None,\n 'id': 7104735,\n 'priority': 2,\n 'checked': 0,\n 'user_id': 4405058,\n 'has_more_notes': False,\n 'due_date_utc': None,\n 'content': 'ирригатор',\n 'parent_id': None,\n 'item_order': 1,\n 'is_deleted': 0,\n 'responsible_uid': None,\n 'project_id': 143126188,\n 'date_completed': None,\n 'collapsed': 0,\n 'date_string': None}"
      ]
     },
     "execution_count": 93,
     "metadata": {},
     "output_type": "execute_result"
    }
   ],
   "source": [
    "# api.projects\n",
    "    \n",
    "d = pi[list(pi)[0]]\n",
    "d"
   ]
  },
  {
   "cell_type": "code",
   "execution_count": 38,
   "metadata": {},
   "outputs": [],
   "source": [
    "from pyutils import dump_json, load_json\n",
    "settings = {'permitted_paths':}"
   ]
  },
  {
   "cell_type": "code",
   "execution_count": 156,
   "metadata": {
    "collapsed": true
   },
   "outputs": [
    {
     "data": {
      "text/plain": [
       "Item({'all_day': True,\n 'assigned_by_uid': 4405058,\n 'checked': 0,\n 'collapsed': 0,\n 'content': 'Записаться на прием к дерматологу',\n 'date_added': 'Mon 29 Jun 2015 05:45:40 +0000',\n 'date_completed': None,\n 'date_lang': 'en',\n 'date_string': 'Aug 30',\n 'day_order': -1,\n 'due_date_utc': 'Thu 30 Aug 2018 20:59:59 +0000',\n 'has_more_notes': False,\n 'id': 8765006,\n 'in_history': 0,\n 'indent': 1,\n 'is_archived': 0,\n 'is_deleted': 0,\n 'item_order': 3,\n 'labels': [],\n 'parent_id': None,\n 'priority': 1,\n 'project_id': 153748556,\n 'responsible_uid': None,\n 'sync_id': None,\n 'user_id': 4405058})"
      ]
     },
     "execution_count": 156,
     "metadata": {},
     "output_type": "execute_result"
    }
   ],
   "source": [
    "# learn how to define whether i can touch the task or no\n",
    "# api.activity.state\n",
    "i"
   ]
  },
  {
   "cell_type": "code",
   "execution_count": null,
   "metadata": {
    "collapsed": false
   },
   "outputs": [
    {
     "data": {
      "text/plain": [
       "datetime.datetime(2018, 8, 30, 20, 59, 59, tzinfo=tzutc())"
      ]
     },
     "execution_count": 162,
     "metadata": {},
     "output_type": "execute_result"
    }
   ],
   "source": [
    "import threading\n",
    "import time\n",
    "import datetime\n",
    "\n",
    "import defaults\n",
    "\n",
    "from pyutils import run_bg\n",
    "\n",
    "\n",
    "class Folder(object):\n",
    "    \"\"\"sample project.data:\n",
    "    {'is_favorite': 0,\n",
    "     'color': 21,\n",
    "     'collapsed': 0,\n",
    "     'id': 2201412629,\n",
    "     'indent': 1,\n",
    "     'name': 'personal assistant',\n",
    "     'has_more_notes': False,\n",
    "     'is_deleted': 0,\n",
    "     'parent_id': 2183890184,\n",
    "     'item_order': 52,\n",
    "     'shared': False,\n",
    "     'is_archived': 0}\n",
    "    \"\"\"\n",
    "    def __init__(self, project, assistant=None):\n",
    "        self._todoist_id = project.data['id']\n",
    "        \n",
    "        self._assistant = assistant\n",
    "        self._children = set()\n",
    "        self._tasks = set()\n",
    "    \n",
    "    @property\n",
    "    def personal_assistant(self):\n",
    "        if self._assistant is None:\n",
    "            return defaults.assistant\n",
    "        else:\n",
    "            return self._assistant\n",
    "        \n",
    "    pa = personal_assistant\n",
    "    \n",
    "    def update_parent_id(self, new_id, commit=True):\n",
    "        # todo: \n",
    "        print(\"WARNING: This modifies actual value on server, need to emphasise that in the name of the method!!!\")\n",
    "        self.project.update(parent_id=new_id)\n",
    "        if commit:\n",
    "            self.api.commit()\n",
    "    \n",
    "    @property\n",
    "    def id(self):\n",
    "        return self._todoist_id\n",
    "    \n",
    "    @property\n",
    "    def project(self):\n",
    "        return self.pa.get_project(self.id)\n",
    "    \n",
    "    @property\n",
    "    def path(self):\n",
    "        if self.parent_id is None:\n",
    "            return self.name\n",
    "        else:\n",
    "            return \"{}/{}\".format(self.parent.path, self.name)\n",
    "    \n",
    "    @property\n",
    "    def name(self):\n",
    "        return self.project.data['name']\n",
    "    \n",
    "    @property\n",
    "    def api(self):\n",
    "        return self.pa.api \n",
    "    \n",
    "    @property\n",
    "    def parent_id(self):\n",
    "        return self.project.data['parent_id']\n",
    "    \n",
    "    @property\n",
    "    def parent(self):\n",
    "        if self.parent_id is None:\n",
    "            return None\n",
    "        return self.pa.get_folder(self.parent_id)\n",
    "    \n",
    "    def register_task(self, task):\n",
    "        self._tasks.add(task.id)\n",
    "    \n",
    "    def unregister_task(self, task):\n",
    "        self._tasks.remove(task.id)\n",
    "        \n",
    "    def register_child(self, folder):\n",
    "        self._children.add(folder.id)\n",
    "    \n",
    "    def unregister_child(self, folder):\n",
    "        self._children.remove(folder.id)\n",
    "        \n",
    "    @property\n",
    "    def children(self):\n",
    "        return [self.pa.get_folder(p) for p in self._children]\n",
    "    \n",
    "    @property\n",
    "    def tasks(self):\n",
    "        return [self.pa.get_task(t) for t in self._tasks]\n"
   ]
  },
  {
   "cell_type": "code",
   "execution_count": 162,
   "metadata": {
    "collapsed": false
   },
   "outputs": [
    {
     "data": {
      "text/plain": [
       "datetime.datetime(2018, 8, 30, 20, 59, 59, tzinfo=tzutc())"
      ]
     },
     "execution_count": 162,
     "metadata": {},
     "output_type": "execute_result"
    }
   ],
   "source": [
    "# for i in api.items\n",
    "import dateutil\n",
    "dateutil.parser.parse('Thu 30 Aug 2018 20:59:59 +0000')"
   ]
  },
  {
   "cell_type": "code",
   "execution_count": null,
   "metadata": {
    "collapsed": false
   },
   "outputs": [
    {
     "data": {
      "text/plain": [
       "datetime.datetime(2018, 8, 30, 20, 59, 59, tzinfo=tzutc())"
      ]
     },
     "execution_count": 162,
     "metadata": {},
     "output_type": "execute_result"
    }
   ],
   "source": [
    "import dateutil\n",
    "\n",
    "class Task(object):\n",
    "    \"\"\"sample item.data\n",
    "    {'day_order': -1,\n",
    "     'assigned_by_uid': 4405058,\n",
    "     'is_archived': 0,\n",
    "     'labels': [2149331073],\n",
    "     'sync_id': None,\n",
    "     'all_day': False,\n",
    "     'in_history': 0,\n",
    "     'date_added': 'Fri 12 Jun 2015 17:21:12 +0000',\n",
    "     'indent': 1,\n",
    "     'date_lang': None,\n",
    "     'id': 7104735,\n",
    "     'priority': 2,\n",
    "     'checked': 0,\n",
    "     'user_id': 4405058,\n",
    "     'has_more_notes': False,\n",
    "     'due_date_utc': 'Thu 30 Aug 2018 20:59:59 +0000'\n",
    "     'content': 'ирригатор',\n",
    "     'parent_id': None,\n",
    "     'item_order': 1,\n",
    "     'is_deleted': 0,\n",
    "     'responsible_uid': None,\n",
    "     'project_id': 143126188,\n",
    "     'date_completed': None,\n",
    "     'collapsed': 0,\n",
    "     'date_string': \"every 2 weeks\"}\n",
    "    \"\"\"\n",
    "    def __init__(self, item, personal_assistant=None):\n",
    "        self._assistant = personal_assistant\n",
    "        \n",
    "        # if item is not None:\n",
    "        self._todoist_id = item.data['id']\n",
    "        # else:\n",
    "        #     self.create_todoist_task()\n",
    "        \n",
    "        self._children = set()\n",
    "            \n",
    "        self.processed = False\n",
    "        \n",
    "        self._pa_repeat_rule = None\n",
    "        \n",
    "    @property\n",
    "    def parent_id(self):\n",
    "        return self.item.data['parent_id']\n",
    "    \n",
    "    @property\n",
    "    def project_id(self):\n",
    "        return self.item.data['project_id']\n",
    "    \n",
    "    @property\n",
    "    def id(self):\n",
    "        return self._todoist_id\n",
    "    \n",
    "    # @property #probably better off going directly folder->project\n",
    "    # def project(self):\n",
    "    #     return self.folder.project\n",
    "    \n",
    "    @property\n",
    "    def folder(self):\n",
    "        return self.pa.get_folder(self.project_id)\n",
    "    \n",
    "    @property\n",
    "    def parent(self):\n",
    "        if self.parent_id is None:\n",
    "            return None\n",
    "        return self.pa.get_task(self.parent_id)\n",
    "    \n",
    "    @property\n",
    "    def personal_assistant(self):\n",
    "        if self._assistant is None:\n",
    "            return defaults.assistant\n",
    "        return self._assistant\n",
    "    \n",
    "    pa = personal_assistant\n",
    "    \n",
    "    @property\n",
    "    def item(self):\n",
    "        return self.pa.get_item(self.id)\n",
    "    # def create_todoist_task(self):\n",
    "    \n",
    "    @property\n",
    "    def folder_path(self):\n",
    "        return self.folder.path\n",
    "    \n",
    "    \n",
    "    # ---------------------------------------------\n",
    "    # ok, here fancy stuff begins\n",
    "    def get_next_due_time(self):\n",
    "        \"\"\"\n",
    "        :return: python datetime \n",
    "        \"\"\"\n",
    "        # todo: output \n",
    "        if self._pa_repeat_rule is not None:\n",
    "            print(\"At some point PA should take control over scheduling, providing more flexible rules\")\n",
    "            raise NotImplementedError\n",
    "        else:\n",
    "            if not self.is_repeated():\n",
    "                raise RuntimeError(\"Requesting next due time from non-repeated task\")\n",
    "            print(\"Need to understand how to get next due date from todoist...\")\n",
    "            \n",
    "    def get_due_time(self, todoist_format=False):\n",
    "        if todoist_format:\n",
    "            return self.due_date_utc\n",
    "        else:\n",
    "            return dateutil.parser.parse(self.due_date_utc)\n",
    "            \n",
    "    @property\n",
    "    def due_date_utc(self):\n",
    "     # 'due_date_utc': 'Thu 30 Aug 2018 20:59:59 +0000'\n",
    "        return self.item.data['due_date_utc']\n",
    "    \n",
    "    @property\n",
    "    def date_string(self):\n",
    "        return self.item.data['date_string']\n",
    "    \n",
    "    def is_repeated(self):\n",
    "        if self._pa_repeat_rule is not None:\n",
    "            return True\n",
    "        return self.date_string is not None and self.date_string.lower().startswith('every') \n",
    "    \n",
    "    # next_time = task.get_next_due_time()\n",
    "    # due_time = task.get_due_time()\n",
    "    # current_time = datetime.datetime.now()\n",
    "    # return (\n",
    "    #     task.is_repeated() \n",
    "    def reschedule(self, due_time=None):\n",
    "        print(\"Need to transform due time into todoist format\")\n",
    "        print(\"Need to learn how to schedule task to next time in todoist\")\n",
    "        raise NotImplementedError\n"
   ]
  },
  {
   "cell_type": "code",
   "execution_count": null,
   "metadata": {
    "collapsed": false
   },
   "outputs": [
    {
     "data": {
      "text/plain": [
       "datetime.datetime(2018, 8, 30, 20, 59, 59, tzinfo=tzutc())"
      ]
     },
     "execution_count": 162,
     "metadata": {},
     "output_type": "execute_result"
    }
   ],
   "source": [
    "\n",
    "class PersonalAssistant(object):\n",
    "    def __init__(self, api_token=None, permitted_paths=None, only_permitted=False):\n",
    "        \n",
    "        self._ASSISTANT_COOLDOWN = 1 # how often assistant performs status review\n",
    "        self._COMMIT_COOLDOWN = 1 # time to wait to accumulate changes for commit\n",
    "        \n",
    "        self._lock = threading.RLock()\n",
    "        self._run_assistant = False\n",
    "        self._assistant_status = False\n",
    "        self._assistant_thread = None\n",
    "        self.autosync_api = False\n",
    "        self._AUTOSYNC_COOLDOWN = 1 # how often sync happens during api usage\n",
    "        self._last_api_sync_timestamp = None\n",
    "        self._REVISION_COOLDOWN = 60\n",
    "        self._revision_countdown = 0\n",
    "        self.run_assistant = False\n",
    "        \n",
    "        self._api = None\n",
    "        self.connect_to_todoist(api_token)\n",
    "        \n",
    "        self._included_paths = []\n",
    "        self._excluded_paths = []\n",
    "        self.configure_permitted_paths(permitted_paths=permitted_paths)\n",
    "        \n",
    "        \n",
    "        # initialize todoist mappings\n",
    "        self._items = {p.data['id']:p for p in self.api.items.all()}\n",
    "        self._projects = {p.data['id']:p for p in self.api.projects.all()}\n",
    "     \n",
    "        self._folders = {project.data['id']:Folder(project) for project in self.projects}\n",
    "        self._tasks = {item.data['id']:Task(item) for item in self.items}\n",
    "        self._initialize_folders()\n",
    "        self._initialize_tasks()\n",
    "                \n",
    "        if defaults.assistant is None:\n",
    "            defaults.assistant = self\n",
    "            \n",
    "        if only_permitted:\n",
    "            # todo:\n",
    "            print(\"To reduce resource consumption theres an option to \"\n",
    "                  \"process only tasks that are permitted, leaving everything else out of scope\")\n",
    "            raise NotImplementedError\n",
    "            \n",
    "        self.launch_assistant()\n",
    "        \n",
    "    def _initialize_folders(self):\n",
    "        # todo: set up parents and children\n",
    "        for folder in self.folders:\n",
    "            if folder.parent is not None:\n",
    "                folder.parent.register_child(folder)\n",
    "    \n",
    "    def _initialize_tasks(self):\n",
    "        # todo: don't need anything now, actually\n",
    "        # oh, apparently, tasks too have parents and childrenv\n",
    "        # self._items = set()\n",
    "        # self._children = set()\n",
    "        for task in self.tasks:\n",
    "            task.folder.register_task(task)\n",
    "            if task.parent is not None:\n",
    "                task.parent.register_child(task)\n",
    "    \n",
    "    @property\n",
    "    def projects(self):\n",
    "        return self._projects.values()\n",
    "    \n",
    "    def get_project(self, id):\n",
    "        return self._projects[id]\n",
    "    \n",
    "    @property\n",
    "    def items(self):\n",
    "        return self._items.values()\n",
    "    \n",
    "    def get_item(self, id):\n",
    "        return self._items[id]\n",
    "    \n",
    "    @property\n",
    "    def folders(self):\n",
    "        return self._folders.values()\n",
    "    \n",
    "    def get_folder(self, id):\n",
    "        return self._folders[id]\n",
    "    \n",
    "    @property\n",
    "    def tasks(self):\n",
    "        return self._tasks.values()\n",
    "    \n",
    "    def get_task(self, id):\n",
    "        return self._tasks[id]\n",
    "    \n",
    "    def get_state(self):\n",
    "        state = self.__dict__\n",
    "        # todo: remove api\n",
    "        # todo: PROJECTS - only ids?\n",
    "        return state\n",
    "\n",
    "    def set_state(self, state):\n",
    "        self.__dict__.update(state)\n",
    "        # todo sync todoist api\n",
    "        \n",
    "    def configure_permitted_paths(self, permitted_paths=None):\n",
    "        # 1) define what i can touch and what i can't\n",
    "        # settings_path = os.path.join()\n",
    "        permitted_paths = None\n",
    "        if permitted_paths is None:\n",
    "            try:\n",
    "                permitted_paths = raw_input(\"\"\"\n",
    "        Default: \"personal assistant\". All missing paths will be created.\n",
    "        Enter paths that personal assistant will be in control of\n",
    "        Example: personal assistant, -personal assistant/private\n",
    "        add '-' before the path to exclude it.\n",
    "        If only excluded paths are mentioned - all paths are considered permitted except \n",
    "        If no paths are mentioned \n",
    "            \"\"\")\n",
    "            except:\n",
    "                permitted_paths = ''\n",
    "            if permitted_paths == '':\n",
    "                permitted_paths = \"personal assistant\"\n",
    "            pp = [p.strip().strip('/') for p in permitted_paths.split(',')]\n",
    "            self._included_paths = [p for p in pp if not p.startswith('-')]\n",
    "            self._excluded_paths = [p[1:] for p in pp if p.startswith('-')]\n",
    "            if len(self._included_paths) == 0:\n",
    "                self._included_paths = [\"\"]\n",
    "            \n",
    "    def path_is_permitted(self, path):\n",
    "        return any([path.startswith(p) for p in self._included_paths]) and not any([path.startswith(p) for p in self._excluded_paths])\n",
    "        \n",
    "    \n",
    "    def connect_to_todoist(self, api_token):\n",
    "        import todoist\n",
    "        if api_token is None:\n",
    "            from resources import default_token_path\n",
    "            api_token = default_token_path\n",
    "        if os.path.exists(api_token):\n",
    "            from pyutils import get_token\n",
    "            api_token = get_token(api_token)\n",
    "        self._api = todoist.TodoistAPI(api_token)\n",
    "    \n",
    "    def sync_api(self):\n",
    "        with self._lock:\n",
    "            self._api.sync()\n",
    "            self._process_items_updates()\n",
    "            self._last_api_sync_timestamp = datetime.datetime.now()\n",
    "            \n",
    "    def _process_items_updates(self):\n",
    "        #[\n",
    "      # {\n",
    "      #   'id': 955344370,\n",
    "      #   'object_type': 'item',\n",
    "      #   'object_id': 101157918,\n",
    "      #   'event_type': 'updated',\n",
    "      #   'event_date': 'Fri 01 Jul 2016 14:28:37 +0000',\n",
    "      #   'parent_project_id': 174361513,\n",
    "      #   'parent_item_id': None,\n",
    "      #   'initiator_id': None,\n",
    "      #   'extra_data': {\n",
    "      #     'content': 'Task1',\n",
    "      #     'due_date': 'Sat 02 Jul 2016 20:59:59 +0000',\n",
    "      #     'last_due_date': None,\n",
    "      #     'client' : 'Mozilla/5.0; Todoist/830'\n",
    "      #   }\n",
    "      # },\n",
    "      # {\n",
    "      #   'id': 955333751,\n",
    "      #   'object_type': 'note',\n",
    "      #   'object_id': 23685068,\n",
    "      #   'event_type': 'added',\n",
    "      #   'event_date': 'Fri 01 Jul 2016 14:25:04 +0000',\n",
    "      #   'parent_project_id': 174361513,\n",
    "      #   'parent_item_id': 101157918,\n",
    "      #   'initiator_id': None,\n",
    "      #   'extra_data': {\n",
    "      #     'content': 'Note1',\n",
    "      #     'client': 'Todoist/11.2.1'\n",
    "      #   }\n",
    "      # },\n",
    "        # \n",
    "        # \"last_due_date\" : null,\n",
    "        # \"due_date\" : \"Sat 02 Jul 2016 20:59:59 +0000\",\n",
    "        #\n",
    "        # api.activity.get()\n",
    "        print(\"Warning: items updates are not being processed\")\n",
    "        if self._last_api_sync_timestamp is not None:\n",
    "            self.api.updates\n",
    "        \n",
    "        \n",
    "    @property\n",
    "    def api(self):\n",
    "        if self.autosync_api and (datetime.datetime.now() - self._last_api_sync_timestamp > datetime.timedelta(seconds=self._AUTOSYNC_COOLDOWN)):\n",
    "            self.sync_api()\n",
    "        return self._api\n",
    "    \n",
    "    def launch_assistant(self, bg=False):\n",
    "        if not self.check_assistant_status():\n",
    "            self.run_assistant = True\n",
    "            if bg:\n",
    "                from pyutils import run_bg\n",
    "                self._assistant_thread = run_bg(self._assistant)\n",
    "            else:\n",
    "                self._assistant()\n",
    "            \n",
    "        \n",
    "    def check_assistant_status(self):\n",
    "        with self._lock:\n",
    "            self._assistant_status = False\n",
    "        time.sleep(self._ASSISTANT_COOLDOWN + 0.5)  # if assistatn\n",
    "        with self._lock:\n",
    "            return self._assistant_status\n",
    "        \n",
    "    def _assistant(self):\n",
    "        while self.run_assistant:\n",
    "            if self._revision_countdown <= 0:\n",
    "                tasks_to_process = self.get_unprocessed_tasks()\n",
    "                self._revision_countdown = self._REVISION_COOLDOWN\n",
    "            else:\n",
    "                tasks_to_process = self.get_updated_tasks()\n",
    "            \n",
    "            for task in tasks_to_process:\n",
    "                self.process_task(task)\n",
    "            \n",
    "            time.sleep(self._ASSISTANT_COOLDOWN)\n",
    "                        \n",
    "    @property\n",
    "    def run_assistant(self):\n",
    "        with self._lock:\n",
    "            return self._run_assistant\n",
    "    \n",
    "    @run_assistant.setter\n",
    "    def run_assistant(self, value):\n",
    "        with self._lock:\n",
    "            self._run_assistant = value\n",
    "        \n",
    "    def get_updated_tasks(self):\n",
    "        updates = self._api.activity\n",
    "        return updates\n",
    "    \n",
    "    def get_unprocessed_tasks(self):\n",
    "        return [task for task in self.tasks if task.project.path_is_permitted and not task.processed]\n",
    "    \n",
    "    @property\n",
    "    def tasks(self):\n",
    "        return self._tasks\n",
    "            \n",
    "        \n",
    "    # def create_project(self, name, parent):\n",
    "    #     \n",
    "    # def _delayed_commit_bg(self):\n",
    "    #     with self._lock:\n",
    "    #         self._commit_request_timestamp = datetime.datetime.now()\n",
    "    #         if not self.commit_scheduled:\n",
    "    #             run_bg()\n",
    "    #     \n",
    "    # def _delayed_commit(self, delay=None):\n",
    "    #     try:\n",
    "    #         \n",
    "    #         time.sleep(delay or self._COMMIT_COOLDOWN)\n",
    "    #         self.api.commit()\n",
    "    #         \n",
    "    #         with self._lock:\n",
    "                \n",
    "            \n",
    "    def reschedule_too_overdue_tasks(self):\n",
    "        # go over all permitted tasks\n",
    "        for task in self.permitted_tasks:\n",
    "            if PersonalAssistant.default_overdue_reschedule_condition(task):\n",
    "                task.reschedule()\n",
    "        \n",
    "    @property\n",
    "    def permitted_tasks(self):\n",
    "        import itertools\n",
    "        return itertools.chain(*[folder.tasks for folder in self.permitted_folders])\n",
    "        # return [task for task in self.tasks if self.task_is_permitted(task)]\n",
    "    \n",
    "    \n",
    "    @property\n",
    "    def permitted_folders(self):\n",
    "        return [folder for folder in self.folders if self.path_is_permitted(folder.path)]\n",
    "    \n",
    "    def task_is_permitted(self, task):\n",
    "        return self.path_is_permitted(task.folder_path)\n",
    "\n",
    "    @staticmethod\n",
    "    def default_overdue_reschedule_condition(task):\n",
    "        next_time = task.get_next_due_time()\n",
    "        due_time = task.get_due_time()\n",
    "        current_time = datetime.datetime.now()\n",
    "        return (\n",
    "            task.is_repeated() \n",
    "            and (next_time - current_time) < datetime.timedelta(hours=36) # less than 1.5 days remaining\n",
    "            and (next_time - current_time) < 0.5 * (next_time - due_time) # less than 0.5 of repeat interval.\n",
    "            # There may be problems with 'every!' rule, need to consider.\n",
    "        )\n",
    "        \n",
    "        \n",
    "        \n",
    "\n",
    "\n",
    "# def reschedule_if_too_overdue_regular_task(\n",
    "#         task,\n",
    "#         condition=default_overdue_reschedule_condition\n",
    "# ): \n",
    "#     if condition(task)\n",
    "\n",
    "self = PersonalAssistant()  \n"
   ]
  },
  {
   "cell_type": "code",
   "execution_count": 64,
   "metadata": {},
   "outputs": [],
   "source": [
    "# api.state"
   ]
  },
  {
   "cell_type": "code",
   "execution_count": 37,
   "metadata": {},
   "outputs": [
    {
     "ename": "KeyError",
     "evalue": "0",
     "traceback": [
      "\u001b[0;31m---------------------------------------------------------------------------\u001b[0m",
      "\u001b[0;31mKeyError\u001b[0m                                  Traceback (most recent call last)",
      "\u001b[0;32m<ipython-input-37-2b89c033b3dd>\u001b[0m in \u001b[0;36m<module>\u001b[0;34m()\u001b[0m\n\u001b[1;32m      3\u001b[0m \u001b[0;31m# api = todoist.TodoistAPI(get_token())\u001b[0m\u001b[0;34m\u001b[0m\u001b[0;34m\u001b[0m\u001b[0m\n\u001b[1;32m      4\u001b[0m \u001b[0;34m\u001b[0m\u001b[0m\n\u001b[0;32m----> 5\u001b[0;31m \u001b[0mset\u001b[0m\u001b[0;34m(\u001b[0m\u001b[0;34m[\u001b[0m\u001b[0mk\u001b[0m\u001b[0;34m[\u001b[0m\u001b[0;34m'type'\u001b[0m\u001b[0;34m]\u001b[0m \u001b[0;32mfor\u001b[0m \u001b[0mk\u001b[0m \u001b[0;32min\u001b[0m \u001b[0mapi\u001b[0m\u001b[0;34m.\u001b[0m\u001b[0mitems\u001b[0m\u001b[0;34m.\u001b[0m\u001b[0mall\u001b[0m\u001b[0;34m(\u001b[0m\u001b[0;34m)\u001b[0m \u001b[0;32mif\u001b[0m \u001b[0;34m'type'\u001b[0m \u001b[0;32min\u001b[0m \u001b[0mk\u001b[0m\u001b[0;34m]\u001b[0m\u001b[0;34m)\u001b[0m\u001b[0;34m\u001b[0m\u001b[0m\n\u001b[0m",
      "\u001b[0;32m<ipython-input-37-2b89c033b3dd>\u001b[0m in \u001b[0;36m<listcomp>\u001b[0;34m(.0)\u001b[0m\n\u001b[1;32m      3\u001b[0m \u001b[0;31m# api = todoist.TodoistAPI(get_token())\u001b[0m\u001b[0;34m\u001b[0m\u001b[0;34m\u001b[0m\u001b[0m\n\u001b[1;32m      4\u001b[0m \u001b[0;34m\u001b[0m\u001b[0m\n\u001b[0;32m----> 5\u001b[0;31m \u001b[0mset\u001b[0m\u001b[0;34m(\u001b[0m\u001b[0;34m[\u001b[0m\u001b[0mk\u001b[0m\u001b[0;34m[\u001b[0m\u001b[0;34m'type'\u001b[0m\u001b[0;34m]\u001b[0m \u001b[0;32mfor\u001b[0m \u001b[0mk\u001b[0m \u001b[0;32min\u001b[0m \u001b[0mapi\u001b[0m\u001b[0;34m.\u001b[0m\u001b[0mitems\u001b[0m\u001b[0;34m.\u001b[0m\u001b[0mall\u001b[0m\u001b[0;34m(\u001b[0m\u001b[0;34m)\u001b[0m \u001b[0;32mif\u001b[0m \u001b[0;34m'type'\u001b[0m \u001b[0;32min\u001b[0m \u001b[0mk\u001b[0m\u001b[0;34m]\u001b[0m\u001b[0;34m)\u001b[0m\u001b[0;34m\u001b[0m\u001b[0m\n\u001b[0m",
      "\u001b[0;32m~/anaconda3/lib/python3.6/site-packages/todoist/models.py\u001b[0m in \u001b[0;36m__getitem__\u001b[0;34m(self, key)\u001b[0m\n\u001b[1;32m     15\u001b[0m \u001b[0;34m\u001b[0m\u001b[0m\n\u001b[1;32m     16\u001b[0m     \u001b[0;32mdef\u001b[0m \u001b[0m__getitem__\u001b[0m\u001b[0;34m(\u001b[0m\u001b[0mself\u001b[0m\u001b[0;34m,\u001b[0m \u001b[0mkey\u001b[0m\u001b[0;34m)\u001b[0m\u001b[0;34m:\u001b[0m\u001b[0;34m\u001b[0m\u001b[0m\n\u001b[0;32m---> 17\u001b[0;31m         \u001b[0;32mreturn\u001b[0m \u001b[0mself\u001b[0m\u001b[0;34m.\u001b[0m\u001b[0mdata\u001b[0m\u001b[0;34m[\u001b[0m\u001b[0mkey\u001b[0m\u001b[0;34m]\u001b[0m\u001b[0;34m\u001b[0m\u001b[0m\n\u001b[0m\u001b[1;32m     18\u001b[0m \u001b[0;34m\u001b[0m\u001b[0m\n\u001b[1;32m     19\u001b[0m     \u001b[0;32mdef\u001b[0m \u001b[0m__repr__\u001b[0m\u001b[0;34m(\u001b[0m\u001b[0mself\u001b[0m\u001b[0;34m)\u001b[0m\u001b[0;34m:\u001b[0m\u001b[0;34m\u001b[0m\u001b[0m\n",
      "\u001b[0;31mKeyError\u001b[0m: 0"
     ],
     "output_type": "error"
    }
   ],
   "source": [
    "import todoist\n",
    "from pyutils import get_token\n",
    "# api = todoist.TodoistAPI(get_token())\n",
    "\n",
    "set([k['type'] for k in api.items.all() if 'type' in k])"
   ]
  },
  {
   "cell_type": "code",
   "execution_count": 143,
   "metadata": {
    "collapsed": true
   },
   "outputs": [],
   "source": [
    "# for i in api.items.all():\n",
    "#     if u'id' not in i.__dict__:\n",
    "#         print(i.__dict__)\n",
    "#         print(i.__dict__.keys())\n",
    "#         break\n",
    "# pp\n",
    "    "
   ]
  },
  {
   "cell_type": "code",
   "execution_count": 22,
   "metadata": {},
   "outputs": [],
   "source": [
    "api.state.items()"
   ]
  },
  {
   "cell_type": "code",
   "execution_count": 106,
   "metadata": {},
   "outputs": [],
   "source": [
    "from collections import defaultdict\n",
    "counter = defaultdict(int)\n",
    "for item in api.state['items']:\n",
    "    for k in item.__dict__['data'].keys():\n",
    "        counter[k] += 1"
   ]
  },
  {
   "cell_type": "code",
   "execution_count": 107,
   "metadata": {},
   "outputs": [
    {
     "data": {
      "text/plain": [
       "defaultdict(int,\n            {'day_order': 687,\n             'assigned_by_uid': 687,\n             'is_archived': 687,\n             'labels': 687,\n             'sync_id': 687,\n             'all_day': 687,\n             'in_history': 687,\n             'date_added': 687,\n             'indent': 687,\n             'date_lang': 687,\n             'id': 687,\n             'priority': 687,\n             'checked': 687,\n             'user_id': 687,\n             'has_more_notes': 687,\n             'due_date_utc': 687,\n             'content': 687,\n             'parent_id': 687,\n             'item_order': 687,\n             'is_deleted': 687,\n             'responsible_uid': 687,\n             'project_id': 687,\n             'date_completed': 687,\n             'collapsed': 687,\n             'date_string': 687})"
      ]
     },
     "execution_count": 107,
     "metadata": {},
     "output_type": "execute_result"
    }
   ],
   "source": [
    "counter"
   ]
  },
  {
   "cell_type": "code",
   "execution_count": 108,
   "metadata": {
    "collapsed": false
   },
   "outputs": [
    {
     "data": {
      "text/plain": [
       "dict_keys(['collaborator_states', 'collaborators', 'day_orders', 'day_orders_timestamp', 'filters', 'items', 'labels', 'live_notifications', 'live_notifications_last_read_id', 'locations', 'notes', 'project_notes', 'projects', 'reminders', 'settings_notifications', 'user'])"
      ]
     },
     "execution_count": 108,
     "metadata": {},
     "output_type": "execute_result"
    }
   ],
   "source": [
    "# item.__dict__\n",
    "api.state.keys()"
   ]
  },
  {
   "cell_type": "code",
   "execution_count": 113,
   "metadata": {},
   "outputs": [
    {
     "data": {
      "text/plain": [
       "{}"
      ]
     },
     "execution_count": 113,
     "metadata": {},
     "output_type": "execute_result"
    }
   ],
   "source": [
    "# api.state['user']\n",
    "api.state['settings_notifications']\n",
    "# api.state['notes']"
   ]
  },
  {
   "cell_type": "code",
   "execution_count": 114,
   "metadata": {},
   "outputs": [],
   "source": [
    ""
   ]
  },
  {
   "cell_type": "code",
   "execution_count": 137,
   "metadata": {
    "collapsed": false
   },
   "outputs": [
    {
     "name": "stdout",
     "output_type": "stream",
     "text": [
      "d': 'Wed 24 Jan 2018 09:27:11 +0000',\n 'date_completed': None,\n 'date_lang': 'en',\n 'date_string': 'every day at 19:00',\n 'day_order': -1,\n 'due_date_utc': 'Sat 01 Sep 2018 16:00:00 +0000',\n 'has_more\n"
     ]
    }
   ],
   "source": [
    ""
   ]
  },
  {
   "cell_type": "code",
   "execution_count": 125,
   "metadata": {},
   "outputs": [
    {
     "data": {
      "text/plain": [
       "11168"
      ]
     },
     "execution_count": 125,
     "metadata": {},
     "output_type": "execute_result"
    }
   ],
   "source": [
    "pos"
   ]
  },
  {
   "cell_type": "code",
   "execution_count": 38,
   "metadata": {},
   "outputs": [],
   "source": []
  },
  {
   "cell_type": "code",
   "execution_count": 38,
   "metadata": {},
   "outputs": [],
   "source": []
  },
  {
   "cell_type": "code",
   "execution_count": 58,
   "metadata": {},
   "outputs": [
    {
     "data": {
      "text/plain": [
       "Project({u'collapsed': 0,\n u'color': 11,\n u'has_more_notes': False,\n u'id': 2183890184L,\n u'indent': 1,\n u'is_archived': 0,\n u'is_deleted': 0,\n u'is_favorite': 0,\n u'item_order': 1,\n u'name': u'Behavioral modulators',\n u'parent_id': None,\n u'shared': False})"
      ]
     },
     "execution_count": 58,
     "metadata": {},
     "output_type": "execute_result"
    }
   ],
   "source": [
    "api.projects.all()[0]"
   ]
  },
  {
   "cell_type": "code",
   "execution_count": 51,
   "metadata": {},
   "outputs": [],
   "source": [
    "project = api.projects.add('personal assistant')"
   ]
  },
  {
   "cell_type": "code",
   "execution_count": 142,
   "metadata": {
    "collapsed": true
   },
   "outputs": [],
   "source": [
    "# api.commit()"
   ]
  },
  {
   "cell_type": "code",
   "execution_count": 63,
   "metadata": {},
   "outputs": [],
   "source": [
    ""
   ]
  },
  {
   "cell_type": "code",
   "execution_count": 144,
   "metadata": {},
   "outputs": [],
   "source": [
    ""
   ]
  },
  {
   "cell_type": "code",
   "execution_count": 65,
   "metadata": {
    "collapsed": false
   },
   "outputs": [
    {
     "data": {
      "text/plain": [
       "Project({u'collapsed': 0,\n u'color': 11,\n u'has_more_notes': False,\n u'id': 2183890184L,\n u'indent': 1,\n u'is_archived': 0,\n u'is_deleted': 0,\n u'is_favorite': 0,\n u'item_order': 1,\n u'name': u'Behavioral modulators',\n u'parent_id': None,\n u'shared': False})"
      ]
     },
     "execution_count": 65,
     "metadata": {},
     "output_type": "execute_result"
    }
   ],
   "source": [
    "api.projects.all()[0]"
   ]
  },
  {
   "cell_type": "code",
   "execution_count": 67,
   "metadata": {},
   "outputs": [
    {
     "data": {
      "text/plain": [
       "Project({u'collapsed': 0,\n u'color': 21,\n 'id': 2201412629L,\n u'indent': 1,\n u'is_archived': 0,\n u'is_deleted': 0,\n u'is_favorite': 0,\n u'item_order': 52,\n 'name': u'personal assistant',\n u'parent_id': 2183890184L,\n u'shared': False})"
      ]
     },
     "execution_count": 67,
     "metadata": {},
     "output_type": "execute_result"
    }
   ],
   "source": [
    ""
   ]
  },
  {
   "cell_type": "code",
   "execution_count": 69,
   "metadata": {},
   "outputs": [
    {
     "data": {
      "text/plain": [
       "{u'collaborator_states': [],\n u'collaborators': [],\n u'day_orders': {},\n u'day_orders_timestamp': u'1534853157.96',\n u'filters': [],\n u'full_sync': False,\n u'items': [],\n u'labels': [],\n u'live_notifications': [],\n u'live_notifications_last_read_id': 2195079423L,\n u'notes': [],\n u'project_notes': [],\n u'projects': [{u'collapsed': 0,\n   u'color': 21,\n   u'id': 2201412629L,\n   u'indent': 1,\n   u'is_archived': 0,\n   u'is_deleted': 0,\n   u'is_favorite': 0,\n   u'item_order': 52,\n   u'name': u'personal assistant',\n   u'parent_id': 2183890184L,\n   u'shared': False}],\n u'reminders': [],\n u'sync_status': {u'379c1100-017f-11e9-bea4-f832e46ed0ca': u'ok',\n  u'66f1d570-017f-11e9-88a4-f832e46ed0ca': u'ok'},\n u'sync_token': u'HiwIYuPCixtMifOGxYHvfyEHJQrMweRMF63hUlR25quJoS9nnlAac7CnCJJsnFjrplDs75hgKUzsHCWof9nItXF60-jRmZ-1nFXCiBKLIOlX',\n u'temp_id_mapping': {}}"
      ]
     },
     "execution_count": 69,
     "metadata": {},
     "output_type": "execute_result"
    }
   ],
   "source": [
    "# api.commit()"
   ]
  },
  {
   "cell_type": "code",
   "execution_count": 81,
   "metadata": {
    "collapsed": true
   },
   "outputs": [],
   "source": [
    "# p = api.projects.get_by_id(2201412629L)\n",
    "p = api.projects.get_by_id(2201412629)"
   ]
  },
  {
   "cell_type": "code",
   "execution_count": 90,
   "metadata": {
    "collapsed": false
   },
   "outputs": [
    {
     "data": {
      "text/plain": [
       "{'is_favorite': 0,\n 'color': 21,\n 'collapsed': 0,\n 'id': 2201412629,\n 'indent': 1,\n 'name': 'personal assistant',\n 'has_more_notes': False,\n 'is_deleted': 0,\n 'parent_id': 2183890184,\n 'item_order': 52,\n 'shared': False,\n 'is_archived': 0}"
      ]
     },
     "execution_count": 90,
     "metadata": {},
     "output_type": "execute_result"
    }
   ],
   "source": [
    "p.data"
   ]
  },
  {
   "cell_type": "code",
   "execution_count": 141,
   "metadata": {},
   "outputs": [],
   "source": [
    "# todoist.models.Project\n",
    "# cntr = defaultdict(int)\n",
    "for t in pi.values():\n",
    "    if t['date_string'] is not None:\n",
    "        print(t)\n",
    "        break"
   ]
  },
  {
   "cell_type": "code",
   "execution_count": 149,
   "metadata": {
    "collapsed": false
   },
   "outputs": [
    {
     "name": "stdout",
     "output_type": "stream",
     "text": [
      "7553972,\n 'responsible_uid': None,\n 'sync_id': None,\n 'user_id': 4405058}), Item({'all_day': True,\n 'assigned_by_uid': None,\n 'checked': 0,\n 'collapsed': 0,\n 'content': 'Buy toilet paper',\n 'date_added': 'Thu 25 Jan 2018 01:05:01 +0000',\n 'date_completed': None,\n 'date_lang': 'en',\n 'date_string': 'every 2 weeks',\n 'day_order': -1,\n 'due_date_utc': 'Sun 02 Sep 2018 20:59:59 +0000',\n 'has_more_notes': False,\n 'id': 2487941475,\n 'in_history': 0,\n 'indent': 1,\n 'is_archived': 0,\n 'is_deleted': 0,\n 'item_order': 53,\n 'labels': [2149331073, 2149355609, 2149982649],\n 'parent_id': None,\n 'priority': 3,\n 'project_id': 2175597247,\n 'responsible_uid': None,\n 'sync_id': None,\n 'user_id': 4405058}), Item({'all_day': True,\n 'assigned_by_uid': None,\n 'checked': 0,\n 'collapsed': 0,\n 'content': 'Buy mouthwash',\n 'date_added': 'Thu 25 Jan 2018 06:25:48 +0000',\n 'date_completed': None,\n 'date_lang': 'en',\n"
     ]
    }
   ],
   "source": [
    "# kek = str(api.state)\n",
    "\n",
    "# kek[:10000]\n",
    "# pos = 0\n",
    "pos = kek.find(\"every\", pos + 1)\n",
    "print(kek[pos-300: pos+600])"
   ]
  },
  {
   "cell_type": "code",
   "execution_count": 150,
   "metadata": {},
   "outputs": [
    {
     "name": "stdout",
     "output_type": "stream",
     "text": [
      "items\n"
     ]
    }
   ],
   "source": [
    "for k in api.state:\n",
    "    if \"'date_string': 'every 2 weeks'\" in str(api[k]):\n",
    "        print(k)"
   ]
  },
  {
   "cell_type": "code",
   "execution_count": 154,
   "metadata": {},
   "outputs": [
    {
     "name": "stdout",
     "output_type": "stream",
     "text": [
      "Item({'all_day': True,\n 'assigned_by_uid': 4405058,\n 'checked': 0,\n 'collapsed': 0,\n 'content': 'Записаться на прием к дерматологу',\n 'date_added': 'Mon 29 Jun 2015 05:45:40 +0000',\n 'date_completed': None,\n 'date_lang': 'en',\n 'date_string': 'Aug 30',\n 'day_order': -1,\n 'due_date_utc': 'Thu 30 Aug 2018 20:59:59 +0000',\n 'has_more_notes': False,\n 'id': 8765006,\n 'in_history': 0,\n 'indent': 1,\n 'is_archived': 0,\n 'is_deleted': 0,\n 'item_order': 3,\n 'labels': [],\n 'parent_id': None,\n 'priority': 1,\n 'project_id': 153748556,\n 'responsible_uid': None,\n 'sync_id': None,\n 'user_id': 4405058})\n"
     ]
    }
   ],
   "source": [
    "pi = []\n",
    "\n",
    "for i in api.items.all():\n",
    "    if i.data['date_string'] is not None:\n",
    "        print(i)\n",
    "        break"
   ]
  },
  {
   "cell_type": "code",
   "execution_count": 155,
   "metadata": {},
   "outputs": [
    {
     "data": {
      "text/plain": [
       "{'day_order': -1,\n 'assigned_by_uid': 4405058,\n 'is_archived': 0,\n 'labels': [],\n 'sync_id': None,\n 'all_day': True,\n 'in_history': 0,\n 'date_added': 'Mon 29 Jun 2015 05:45:40 +0000',\n 'indent': 1,\n 'date_lang': 'en',\n 'id': 8765006,\n 'priority': 1,\n 'checked': 0,\n 'user_id': 4405058,\n 'has_more_notes': False,\n 'due_date_utc': 'Thu 30 Aug 2018 20:59:59 +0000',\n 'content': 'Записаться на прием к дерматологу',\n 'parent_id': None,\n 'item_order': 3,\n 'is_deleted': 0,\n 'responsible_uid': None,\n 'project_id': 153748556,\n 'date_completed': None,\n 'collapsed': 0,\n 'date_string': 'Aug 30'}"
      ]
     },
     "execution_count": 155,
     "metadata": {},
     "output_type": "execute_result"
    }
   ],
   "source": [
    "i.data"
   ]
  },
  {
   "cell_type": "code",
   "execution_count": 167,
   "metadata": {},
   "outputs": [
    {
     "name": "stdout",
     "output_type": "stream",
     "text": [
      "2018-12-27 10:02:00\nEvery thu at 10:02\n\n2018-12-29 00:00:00\nevery sat\n\n2018-12-29 00:00:00\nevery tue, wed, thu, fri, sat\n\n2018-12-24 01:00:00\nevery! 1 hour\n\n2018-12-30 10:30:00\nevery sun at 10:30\n\n2018-12-29 12:30:00\nEvery wed, thu, fri, sat 12:30\n\n2018-12-28 09:40:00\nevery Mon, Tue, Wed, Thu, Fri at 9:40\n\n2018-12-24 02:00:00\nevery! 2 hours\n\n"
     ]
    }
   ],
   "source": [
    "for t in api.items.all():\n",
    "    ds = t.data['date_string']\n",
    "    if ds is not None and not ds.lower().startswith(\"every\") and 'every' in ds.lower():\n",
    "        print(ds)\n",
    "    if ds is not None and 'every' in ds.lower():\n",
    "        try:\n",
    "            print(dateutil.parser.parse(ds[6:]))\n",
    "            print(ds)\n",
    "            print()\n",
    "        except:\n",
    "            # print(\"Failer to parse\", ds)\n",
    "            pass\n",
    "        "
   ]
  },
  {
   "cell_type": "code",
   "execution_count": 62,
   "metadata": {},
   "outputs": [],
   "source": [
    "from pyutils import trim\n",
    "import string\n",
    "def dstrip(s):\n",
    "    return s.strip(string.whitespace + string.punctuation)\n",
    "\n",
    "def purify(s):\n",
    "    ps = None\n",
    "    while s != ps:\n",
    "        ps, s = s, trim(dstrip(s), 'and', 'and')\n",
    "    return s\n",
    "\n",
    "def chunkify(s, chunks=None, end=False):\n",
    "    beg = not end\n",
    "    result = []\n",
    "    \n",
    "    s = purify(s)\n",
    "    ps = None\n",
    "    while s != ps:\n",
    "        ps = s\n",
    "        for chunk in chunks:\n",
    "            if (beg and s.startswith(chunk)) or (end and s.endswith(chunk)):\n",
    "                result.append(chunk)\n",
    "                s = purify(trim(s, chunk if beg else None, chunk if end else None))\n",
    "    return result, s\n",
    "\n",
    "def multisplit(s, seps=None):\n",
    "    if seps is None:\n",
    "        seps = ['and', ',']\n",
    "    import re  # Will be splitting on: , <space> - ! ? :\n",
    "    return list(filter(None, re.split('|'.join(seps), s)))\n",
    "\n",
    "def unwrap_list(l):\n",
    "    if len(l) == 0:\n",
    "        return None\n",
    "    if len(l) == 1:\n",
    "        return l[0]\n",
    "    return l\n",
    "def cast_time(timestamp):\n",
    "    if type(timestamp) is datetime.time:\n",
    "        return timestamp\n",
    "    if type(timestamp) is datetime.datetime:\n",
    "        return timestamp.time()\n",
    "    if type(timestamp) is str:\n",
    "        return dateutil.parser.parse(timestamp).time()\n",
    "    raise RuntimeError(\"Unable to cast to time object of type {}: {}\".format(type(timestamp), timestamp))\n",
    "\n",
    "def cast_date(date):\n",
    "    if type(date) is datetime.date:\n",
    "        return date\n",
    "    if type(date) is datetime.datetime:\n",
    "        return date.date()\n",
    "    if type(date) is str:\n",
    "        return dateutil.parser.parse(date).date()\n",
    "    raise RuntimeError(\"Unable to cast to date object of type {}: {}\".format(type(date), date))\n",
    "\n",
    "\n",
    "def parse_repeat_schedule(date_string, debug=False):\n",
    "    if debug:\n",
    "        original_string = date_string\n",
    "    date_string = date_string.lower()\n",
    "    date_string = trim(date_string, \"every\")\n",
    "    result = dict(\n",
    "        relative=date_string.startswith('!'),\n",
    "        specific_time=None,\n",
    "        days_of_week=None,\n",
    "        period=None\n",
    "    )\n",
    "    date_string = trim(date_string, '!')\n",
    "    # \"every(!)\" part done.\n",
    "        \n",
    "    if \" at \" in date_string:\n",
    "        date_string, specific_time = date_string.split(' at ')\n",
    "        result['specific_time'] = sorted([cast_time(t) for t in multisplit(specific_time)])\n",
    "    \n",
    "    date_string = dstrip(date_string)\n",
    "    \n",
    "    # 1) quick period\n",
    "    time_intervals = ['hour','hours','minute','minutes','day','days','weeks','week','month','months','year','years']\n",
    "    weekdays = ['mon','tue','wed','thu','fri']\n",
    "    weekend = ['sat','sun']\n",
    "    week = ['mon','tue','wed','thu','fri','sat','sun']\n",
    "    \n",
    "    for ti in time_intervals:\n",
    "        if date_string.endswith(ti):\n",
    "            if debug:\n",
    "                print(date_string)\n",
    "            try:\n",
    "                l = trim(date_string, e=ti).strip()\n",
    "                if l == \"\":\n",
    "                    l = \"1\"\n",
    "                num = int(l)\n",
    "            except:\n",
    "                continue\n",
    "            # try:\n",
    "            #     result['period'] = datetime.timedelta(**{trim(ti, e='s')+'s': num})\n",
    "            # except:\n",
    "            result['period'] = dict(unit=trim(ti, e='s') + 's', value=num)\n",
    "            return result\n",
    "\n",
    "    # if date_string in ['hour','minute','day','week','month']:\n",
    "    #     result['period'] = datetime.timedelta(**{date_string+'s':1})\n",
    "    #     return result\n",
    "    if date_string == \"weekday\":\n",
    "        result['days_of_week'] = weekdays\n",
    "        return result\n",
    "    if date_string == \"weekend\":\n",
    "        result['days_of_week'] = weekend\n",
    "        return result\n",
    "    \n",
    "    # 2) \n",
    "    # mon, tue, wed, thu, fri, sat, sun\n",
    "    # todo\n",
    "    days, date_string = chunkify(date_string, week)\n",
    "    result['days_of_week'] = days if len(days) != 0 else None\n",
    "    if len(date_string) == 0:\n",
    "        return result\n",
    "    else:\n",
    "        if debug:\n",
    "            print(\"Something left out after parsing:\", date_string)\n",
    "        \n",
    "            # print(\"Unable to parse\\nOriginal string: {}\\nRemaining string:{}\\nResult:{}\".format(original_string, date_string, result))\n",
    "        try:\n",
    "            \n",
    "            if debug:\n",
    "                print(\"Known case: time without 'at' part. Trying\")\n",
    "            result['specific_time'] = sorted([cast_time(t) for t in multisplit(date_string)])\n",
    "        except:\n",
    "            if debug:\n",
    "                print(\"Failed\")\n",
    "    return result\n",
    "\n",
    "from dateutil import parser    "
   ]
  },
  {
   "cell_type": "code",
   "execution_count": 63,
   "metadata": {},
   "outputs": [],
   "source": [
    "# string.printable\n",
    "import datetime\n",
    "from dateutil import utils\n",
    "# utils.datetime(datetime.datetime.now())\n",
    "\n",
    "def cast_datetime(source, debug=False):\n",
    "    if debug:\n",
    "        print(\"Casting to datetime\")\n",
    "    if type(source) is datetime.datetime:\n",
    "        if debug:\n",
    "            print(\"Recognized datetime, returning as is\")\n",
    "        return source\n",
    "    if type(source) is str:\n",
    "        try:\n",
    "            if debug:\n",
    "                print(\"Got string, trying parsing with dateutil.parser\")\n",
    "            d = dateutil.parser.parse(source)\n",
    "            if debug:\n",
    "                print(\"Parsing successful\")\n",
    "            if 1900 < d.year and d.year < 2050:\n",
    "                return d\n",
    "            elif debug:\n",
    "                print(\"Seems parsing went wrong - date year out of range:\", d.year)\n",
    "        except Exception as e:\n",
    "            if debug:\n",
    "                print(\"Parsing failed, error:\", e)\n",
    "    try:\n",
    "        d = datetime.datetime(source)\n",
    "        if 1900 < d.year and d.year < 2050:\n",
    "            return d\n",
    "    except:\n",
    "        pass\n",
    "    return source\n",
    "# datetime.datetim e.from(datetime.datetime.now())\n",
    "\n",
    "# import re\n",
    "# s = \"8 hours\"\n",
    "# re.findall(r\"(\\d+)\", s)\n",
    "\n",
    "# def get_next_shedule_date(schedule, due_time=None):\n",
    "#     if due_time is None:\n",
    "#         due_time = datetime.datetime.now(tz=datetime.timezone.utc)\n",
    "#         \n",
    "#     # if current_date is None:\n",
    "#     #     current_date = datetime.datetime.now(tz=datetime.timezone.utc)\n",
    "    \n",
    "def get_reschedule_date(schedule, due_time=None):\n",
    "    \"\"\"\n",
    "    case 0: task is not overdue. Just follow the schedule and see when is next instance\n",
    "    case 1: every! 8 hours\n",
    "    :param schedule: \n",
    "    :param due_time: \n",
    "    :return: \n",
    "    \"\"\"\n",
    "    current_time = datetime.datetime.now(tz=datetime.timezone.utc)\n",
    "    if due_time is None or current_time < cast_datetime(due_time):\n",
    "        \n",
    "        due_time = cast_datetime(due_time) or current_time\n",
    "        raise NotImplementedError\n",
    "    else:\n",
    "        # select nearest next instance after current_time\n",
    "        next_schedule = due_time\n",
    "        while next_schedule < current_time:\n",
    "            raise NotImplementedError\n",
    "    "
   ]
  },
  {
   "cell_type": "code",
   "execution_count": 64,
   "metadata": {},
   "outputs": [],
   "source": [
    "def follow_schedule(schedule, due_date):\n",
    "    if schedule['period'] is not None:\n",
    "        raise NotImplementedError"
   ]
  },
  {
   "cell_type": "code",
   "execution_count": 65,
   "metadata": {},
   "outputs": [],
   "source": [
    "\n",
    "# def simple_follow_schedule:\n",
    "    # if period is not None:\n",
    "        # period time - return\n",
    "        # period date\n",
    "            # if specific time\n",
    "    \n",
    "            \n",
    "def advanced_schedule():\n",
    "    #allowed_intervals\n",
    "    # while datetime not in allowed interval - \n",
    "    \n",
    "    #\n",
    "    raise NotImplementedError\n",
    "\n",
    "def shift_date_month(date, num_months):\n",
    "    y, m, d = date.year + (date.month + num_months - 1) // 12, (date.month + num_months - 1) % 12 + 1, date.day\n",
    "    while True:\n",
    "        try:\n",
    "            return date.replace(year=y, month=m, day=d)\n",
    "        except ValueError:\n",
    "            d = d - 1\n",
    "            \n",
    "def next_time(time, allowed_times):\n",
    "    for target_time in allowed_times:\n",
    "        if cast_time(time) < cast_time(target_time):\n",
    "            return cast_time(target_time)\n",
    "    return None\n",
    "\n",
    "def simple_follow_schedule(schedule, due_time, debug=False):\n",
    "    import datetime\n",
    "    import dateutil\n",
    "    # define date and time separately\n",
    "    result_date = None\n",
    "    result_time = None\n",
    "    if schedule['period'] is not None:\n",
    "        period = schedule['period']\n",
    "        if period['unit'] in ['minutes', 'hours']:\n",
    "            return due_time + datetime.timedelta(**{period['unit']: period['value']})\n",
    "        # if today - need to check allowed time\n",
    "        else:  # period['unit'] in ['days','weeks','months']:\n",
    "            allowed_times = schedule['specific_time']\n",
    "            if allowed_times is not None:\n",
    "                time = next_time(due_time, allowed_times)\n",
    "                if time is not None:\n",
    "                    return datetime.datetime.combine(due_time.date(), time)\n",
    "                result_time = allowed_times[0] # move to next date\n",
    "            else:\n",
    "                # same time\n",
    "                result_time = cast_time(due_time)\n",
    "            unit = period['unit']\n",
    "            value = period['value']\n",
    "            if unit == 'weeks':\n",
    "                value = value * 7\n",
    "                unit = 'days'\n",
    "            if unit == 'months':\n",
    "                # date = cast_date(shift_date_month(due_time, period['num']))\n",
    "                result_date = shift_date_month(due_time.date(), value)\n",
    "            else:\n",
    "                # date = cast_date(due_time) + datetime.timedelta(**{period['unit']:period['value']})\n",
    "                result_date = due_time + datetime.timedelta(**{unit: value})\n",
    "    else:\n",
    "        # no period\n",
    "        days_of_week = schedule['days_of_week']\n",
    "        if days_of_week is None:\n",
    "            raise RuntimeError(\"Schedule is not properly defined: {}\".format( schedule))\n",
    "            # now magic happens:\n",
    "        candiDates = list(sorted([dateutil.parser.parse(wd, default=due_time) for wd in days_of_week]))\n",
    "        if len(candiDates) == 1:\n",
    "            candiDates += [dateutil.parser.parse(days_of_week[0], default=due_time+datetime.timedelta(days=7)),]\n",
    "        if debug:\n",
    "            print(\"candiDates\", candiDates, type(candiDates))\n",
    "        allowed_times = schedule['specific_time']\n",
    "        if debug:\n",
    "            print(\"allowed_times\", allowed_times, type(allowed_times))\n",
    "        today = cast_date(due_time)\n",
    "        if debug:\n",
    "            print(\"today\", today, type(today))\n",
    "        if allowed_times is None:\n",
    "            result_time = cast_time(due_time)\n",
    "            result_date = cast_date(candiDates[0])\n",
    "            if result_date == today:\n",
    "                result_date = cast_date(candiDates[1])\n",
    "        else:\n",
    "            result_date = cast_date(candiDates[0])\n",
    "            result_time = allowed_times[0]\n",
    "            # if date is today - need to check time.\n",
    "            if result_date == today:\n",
    "                result_time = next_time(due_time, allowed_times)\n",
    "                if debug:\n",
    "                    print(\"result_time\", result_time, type(result_time))\n",
    "                if result_time is None:\n",
    "                    result_time = allowed_times[0]\n",
    "                    result_date = cast_date(candiDates[1])\n",
    "            # else - if date is not today - need to check time too.\n",
    "                \n",
    "#         import datetime\n",
    "# def next_weekday(d, weekday):\n",
    "#     days_ahead = weekday - d.weekday()\n",
    "#     if days_ahead <= 0: # Target day already happened this week\n",
    "#         days_ahead += 7\n",
    "#     return d + datetime.timedelta(days_ahead)\n",
    "# \n",
    "# d = datetime.date(2011, 7, 2)\n",
    "# next_monday = next_weekday(d, 0) # 0 = Monday, 1=Tuesday, 2=Wednesday...\n",
    "# print(next_monday)\n",
    "    return datetime.datetime.combine(result_date, result_time)\n"
   ]
  },
  {
   "cell_type": "code",
   "execution_count": 70,
   "metadata": {},
   "outputs": [
    {
     "name": "stdout",
     "output_type": "stream",
     "text": [
      "Scheduling functionality is ok\n"
     ]
    }
   ],
   "source": [
    "test_dates = [\n",
    "    \"05.01.2019 20:30\", #datetime.datetime.now(),\n",
    "    '06 Jan 2019 13:00',\n",
    "    '09 Jan 2019 17:00',\n",
    "    '10 Jan 2019 09:00',\n",
    "    '10 Jan 2019 12:00',\n",
    "    '11 Jan 2019 09:00',\n",
    "]\n",
    "test_dates = [cast_datetime(d) for d in test_dates]\n",
    "# test_dates\n",
    "\n",
    "test_schedules = ['every month', 'every week','Every thu at 10:02', 'every sat', 'every tue, wed, thu, fri, sat', 'every! 1 hour', 'every sun at 10:30', 'Every wed, thu, fri, sat 12:30', 'every Mon, Tue, Wed, Thu, Fri at 9:40', 'every! 2 hours']\n",
    "res = dict()\n",
    "for date_string in test_schedules:\n",
    "    schedule = parse_repeat_schedule(date_string)\n",
    "    res[date_string] = dict(schedule=schedule)\n",
    "    # print('\"', date_string, '\"', schedule)\n",
    "    res[date_string]['appied_schedule'] = dict()\n",
    "    for date in test_dates:\n",
    "        date_format = \"%d.%m.%Y at %H:%M\"\n",
    "        next_date = simple_follow_schedule(schedule, date)\n",
    "        res[date_string]['appied_schedule'][date.strftime(date_format)] = next_date.strftime(date_format)\n",
    "        # print(date.strftime(date_format), \" next: \", next_date.strftime(date_format))\n",
    "    \n",
    "# print(res)\n",
    "true_res = {'every month': {'schedule': {'relative': False, 'specific_time': None, 'days_of_week': None, 'period': {'unit': 'months', 'value': 1}}, 'appied_schedule': {'01.05.2019 at 20:30': '01.06.2019 at 20:30', '06.01.2019 at 13:00': '06.02.2019 at 13:00', '09.01.2019 at 17:00': '09.02.2019 at 17:00', '10.01.2019 at 09:00': '10.02.2019 at 09:00', '10.01.2019 at 12:00': '10.02.2019 at 12:00', '11.01.2019 at 09:00': '11.02.2019 at 09:00'}}, 'every week': {'schedule': {'relative': False, 'specific_time': None, 'days_of_week': None, 'period': {'unit': 'weeks', 'value': 1}}, 'appied_schedule': {'01.05.2019 at 20:30': '08.05.2019 at 20:30', '06.01.2019 at 13:00': '13.01.2019 at 13:00', '09.01.2019 at 17:00': '16.01.2019 at 17:00', '10.01.2019 at 09:00': '17.01.2019 at 09:00', '10.01.2019 at 12:00': '17.01.2019 at 12:00', '11.01.2019 at 09:00': '18.01.2019 at 09:00'}}, 'Every thu at 10:02': {'schedule': {'relative': False, 'specific_time': [datetime.time(10, 2)], 'days_of_week': ['thu'], 'period': None}, 'appied_schedule': {'01.05.2019 at 20:30': '02.05.2019 at 10:02', '06.01.2019 at 13:00': '10.01.2019 at 10:02', '09.01.2019 at 17:00': '10.01.2019 at 10:02', '10.01.2019 at 09:00': '10.01.2019 at 10:02', '10.01.2019 at 12:00': '17.01.2019 at 10:02', '11.01.2019 at 09:00': '17.01.2019 at 10:02'}}, 'every sat': {'schedule': {'relative': False, 'specific_time': None, 'days_of_week': ['sat'], 'period': None}, 'appied_schedule': {'01.05.2019 at 20:30': '04.05.2019 at 20:30', '06.01.2019 at 13:00': '12.01.2019 at 13:00', '09.01.2019 at 17:00': '12.01.2019 at 17:00', '10.01.2019 at 09:00': '12.01.2019 at 09:00', '10.01.2019 at 12:00': '12.01.2019 at 12:00', '11.01.2019 at 09:00': '12.01.2019 at 09:00'}}, 'every tue, wed, thu, fri, sat': {'schedule': {'relative': False, 'specific_time': None, 'days_of_week': ['tue', 'wed', 'thu', 'fri', 'sat'], 'period': None}, 'appied_schedule': {'01.05.2019 at 20:30': '02.05.2019 at 20:30', '06.01.2019 at 13:00': '08.01.2019 at 13:00', '09.01.2019 at 17:00': '10.01.2019 at 17:00', '10.01.2019 at 09:00': '11.01.2019 at 09:00', '10.01.2019 at 12:00': '11.01.2019 at 12:00', '11.01.2019 at 09:00': '12.01.2019 at 09:00'}}, 'every! 1 hour': {'schedule': {'relative': True, 'specific_time': None, 'days_of_week': None, 'period': {'unit': 'hours', 'value': 1}}, 'appied_schedule': {'01.05.2019 at 20:30': '01.05.2019 at 21:30', '06.01.2019 at 13:00': '06.01.2019 at 14:00', '09.01.2019 at 17:00': '09.01.2019 at 18:00', '10.01.2019 at 09:00': '10.01.2019 at 10:00', '10.01.2019 at 12:00': '10.01.2019 at 13:00', '11.01.2019 at 09:00': '11.01.2019 at 10:00'}}, 'every sun at 10:30': {'schedule': {'relative': False, 'specific_time': [datetime.time(10, 30)], 'days_of_week': ['sun'], 'period': None}, 'appied_schedule': {'01.05.2019 at 20:30': '05.05.2019 at 10:30', '06.01.2019 at 13:00': '13.01.2019 at 10:30', '09.01.2019 at 17:00': '13.01.2019 at 10:30', '10.01.2019 at 09:00': '13.01.2019 at 10:30', '10.01.2019 at 12:00': '13.01.2019 at 10:30', '11.01.2019 at 09:00': '13.01.2019 at 10:30'}}, 'Every wed, thu, fri, sat 12:30': {'schedule': {'relative': False, 'specific_time': [datetime.time(12, 30)], 'days_of_week': ['wed', 'thu', 'fri', 'sat'], 'period': None}, 'appied_schedule': {'01.05.2019 at 20:30': '02.05.2019 at 12:30', '06.01.2019 at 13:00': '09.01.2019 at 12:30', '09.01.2019 at 17:00': '10.01.2019 at 12:30', '10.01.2019 at 09:00': '10.01.2019 at 12:30', '10.01.2019 at 12:00': '10.01.2019 at 12:30', '11.01.2019 at 09:00': '11.01.2019 at 12:30'}}, 'every Mon, Tue, Wed, Thu, Fri at 9:40': {'schedule': {'relative': False, 'specific_time': [datetime.time(9, 40)], 'days_of_week': ['mon', 'tue', 'wed', 'thu', 'fri'], 'period': None}, 'appied_schedule': {'01.05.2019 at 20:30': '02.05.2019 at 09:40', '06.01.2019 at 13:00': '07.01.2019 at 09:40', '09.01.2019 at 17:00': '10.01.2019 at 09:40', '10.01.2019 at 09:00': '10.01.2019 at 09:40', '10.01.2019 at 12:00': '11.01.2019 at 09:40', '11.01.2019 at 09:00': '11.01.2019 at 09:40'}}, 'every! 2 hours': {'schedule': {'relative': True, 'specific_time': None, 'days_of_week': None, 'period': {'unit': 'hours', 'value': 2}}, 'appied_schedule': {'01.05.2019 at 20:30': '01.05.2019 at 22:30', '06.01.2019 at 13:00': '06.01.2019 at 15:00', '09.01.2019 at 17:00': '09.01.2019 at 19:00', '10.01.2019 at 09:00': '10.01.2019 at 11:00', '10.01.2019 at 12:00': '10.01.2019 at 14:00', '11.01.2019 at 09:00': '11.01.2019 at 11:00'}}}\n",
    "if res == true_res:\n",
    "    print(\"Scheduling functionality is ok\")\n",
    "else:\n",
    "    print(\"Failed: Scheduling functionality test\")"
   ]
  },
  {
   "cell_type": "code",
   "execution_count": 140,
   "metadata": {},
   "outputs": [
    {
     "data": {
      "text/plain": [
       "datetime.datetime(2019, 6, 10, 0, 0)"
      ]
     },
     "execution_count": 140,
     "metadata": {},
     "output_type": "execute_result"
    }
   ],
   "source": [
    "# x = datetime.datetime.now()\n",
    "due_date = dateutil.parser.parse(\"06.06.2019\")\n",
    "dateutil.parser.parse('mon', default=due_date)"
   ]
  },
  {
   "cell_type": "code",
   "execution_count": 32,
   "metadata": {},
   "outputs": [
    {
     "name": "stdout",
     "output_type": "stream",
     "text": [
      "Casting to datetime\nRecognized datetime, returning as is\nCasting to datetime\nGot string, trying parsing with dateutil.parser\nParsing successful\nParsing failed, error: Required argument 'month' (pos 2) not found\nCasting to datetime\nGot string, trying parsing with dateutil.parser\nParsing successful\nParsing failed, error: Required argument 'month' (pos 2) not found\nCasting to datetime\nGot string, trying parsing with dateutil.parser\nParsing successful\nParsing failed, error: Required argument 'month' (pos 2) not found\n"
     ]
    },
    {
     "data": {
      "text/plain": [
       "[datetime.datetime(2019, 1, 5, 19, 57, 26, 193695),\n '06 Jan 2019 13:00',\n '09 Jan 2019 17:00',\n '11 Jan 2019 09:00']"
      ]
     },
     "execution_count": 32,
     "metadata": {},
     "output_type": "execute_result"
    }
   ],
   "source": [
    "\n",
    "# x = shift_date_month(x, 1)\n",
    "# test_dates\n",
    "# [cast_datetime(d, True) for d in test_dates]\n",
    "allowed_times = []"
   ]
  },
  {
   "cell_type": "code",
   "execution_count": 31,
   "metadata": {},
   "outputs": [],
   "source": [
    "# datetime.timedelta\n",
    "\n",
    "\n",
    "# dateutil.parser.parse('06 Jan 2019 13:00')\n"
   ]
  },
  {
   "cell_type": "code",
   "execution_count": 55,
   "metadata": {},
   "outputs": [
    {
     "data": {
      "text/plain": [
       "datetime.datetime(2019, 1, 5, 21, 23, 33, 393903)"
      ]
     },
     "execution_count": 55,
     "metadata": {},
     "output_type": "execute_result"
    }
   ],
   "source": [
    "\n",
    "period = schedule['period']\n",
    "if period['unit'] in ['minutes', 'hours']:\n",
    "    return due_time + datetime.timedelta(**{period['unit']: period['value']})\n",
    "datetime.datetime.now() + datetime.timedelta(hours=1)"
   ]
  },
  {
   "cell_type": "code",
   "execution_count": 42,
   "metadata": {},
   "outputs": [],
   "source": [
    "# \n",
    "# def multisplit(s, seps=None):\n",
    "#     if seps is None:\n",
    "#         seps = ['and',',']\n",
    "#     coolseps = '±§`' + string.printable\n",
    "#     repsep = None\n",
    "#     for sep in coolseps:\n",
    "#         if sep not in s:\n",
    "#             repsep = sep\n",
    "#             break\n",
    "#     if repsep is None:\n",
    "#         raise RuntimeError(\"Your string contains all printable symbols, wtf\")\n",
    "#     for sep in seps:\n",
    "#         s = s.replace(sep, repsep)\n",
    "#     return s.split(repsep)\n"
   ]
  },
  {
   "cell_type": "code",
   "execution_count": 116,
   "metadata": {},
   "outputs": [],
   "source": [
    ""
   ]
  },
  {
   "cell_type": "code",
   "execution_count": null,
   "metadata": {},
   "outputs": [],
   "source": [
    ""
   ]
  },
  {
   "cell_type": "code",
   "execution_count": 108,
   "metadata": {},
   "outputs": [],
   "source": [
    ""
   ]
  },
  {
   "cell_type": "code",
   "execution_count": 108,
   "metadata": {},
   "outputs": [],
   "source": [
    ""
   ]
  },
  {
   "cell_type": "code",
   "execution_count": 68,
   "metadata": {},
   "outputs": [],
   "source": [
    ""
   ]
  },
  {
   "cell_type": "code",
   "execution_count": 118,
   "metadata": {},
   "outputs": [],
   "source": [
    ""
   ]
  },
  {
   "cell_type": "code",
   "execution_count": 118,
   "metadata": {},
   "outputs": [],
   "source": [
    ""
   ]
  },
  {
   "cell_type": "code",
   "execution_count": null,
   "metadata": {},
   "outputs": [],
   "source": [
    ""
   ]
  }
 ],
 "metadata": {
  "kernelspec": {
   "display_name": "Python 2",
   "language": "python",
   "name": "python2"
  },
  "language_info": {
   "codemirror_mode": {
    "name": "ipython",
    "version": 2
   },
   "file_extension": ".py",
   "mimetype": "text/x-python",
   "name": "python",
   "nbconvert_exporter": "python",
   "pygments_lexer": "ipython2",
   "version": "2.7.6"
  }
 },
 "nbformat": 4,
 "nbformat_minor": 0
}
